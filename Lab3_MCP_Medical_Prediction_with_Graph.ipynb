{
 "cells": [
  {
   "cell_type": "markdown",
   "metadata": {
    "id": "wjfI6Dew8T5q"
   },
   "source": [
    "# MCP Medical Prediction System for eICU Data\n",
    "\n",
    "\n",
    "\n",
    "This notebook demonstrates how to build a medical prediction system using IntelliNode, where:\n",
    "\n",
    "- **MCP Server**: Serves patient data from eICU dataset via HTTP.\n",
    "- **Context Agent**: Loads patient data from MCP server.\n",
    "- **Prediction Agent**: Predicts patient mortality using clinical data and few-shot learning.\n",
    "\n",
    "The provided data is a sample of 10 patients from physionet (eICU Collaborative Research Database).\n"
   ]
  },
  {
   "cell_type": "markdown",
   "metadata": {
    "id": "HvlK08B28gAx"
   },
   "source": [
    "**Objectives**\n",
    "\n",
    "In this tutorial, you will learn how to:\n",
    "\n",
    "- Set up MCP DataFrame server for serving medical data over HTTP.\n",
    "- Create MCP client agents to query structured data.\n",
    "- Build a 2-agent flow for data loading and prediction."
   ]
  },
  {
   "cell_type": "markdown",
   "metadata": {
    "id": "ftGrqDt98tMt"
   },
   "source": [
    "## Setup and Imports"
   ]
  },
  {
   "cell_type": "code",
   "execution_count": null,
   "metadata": {
    "id": "nNVK4dJF8yBE"
   },
   "outputs": [],
   "source": [
    "!pip install \"intelli[mcp]\" python-dotenv"
   ]
  },
  {
   "cell_type": "code",
   "execution_count": null,
   "metadata": {
    "id": "4ZbEIlNp803Q"
   },
   "outputs": [],
   "source": [
    "import os\n",
    "import asyncio\n",
    "import json\n",
    "import pandas as pd\n",
    "import re\n",
    "from dotenv import load_dotenv\n",
    "from intelli.flow import Agent, Task, Flow, TextTaskInput, AgentTypes"
   ]
  },
  {
   "cell_type": "code",
   "execution_count": null,
   "metadata": {
    "id": "WeqM3ww_87vC"
   },
   "outputs": [],
   "source": [
    "load_dotenv()\n"
   ]
  },
  {
   "cell_type": "code",
   "execution_count": null,
   "metadata": {
    "id": "bsW0uiSy9D5Y"
   },
   "outputs": [],
   "source": [
    "# Config\n",
    "OPENAI_KEY = os.getenv(\"OPENAI_API_KEY\")\n",
    "MCP_URL = \"http://localhost:8000/mcp\"\n",
    "OUTPUT_DIR = \"./output\""
   ]
  },
  {
   "cell_type": "markdown",
   "metadata": {
    "id": "hKVW4-da9I4h"
   },
   "source": [
    "Prepare the output folder and validate the keys"
   ]
  },
  {
   "cell_type": "code",
   "execution_count": null,
   "metadata": {
    "id": "xD3oqdbD9Gi2"
   },
   "outputs": [],
   "source": [
    "os.makedirs(OUTPUT_DIR, exist_ok=True)\n",
    "print(f\"OpenAI key: {'✓' if OPENAI_KEY else '✗'}\")"
   ]
  },
  {
   "cell_type": "markdown",
   "metadata": {
    "id": "I6_JZ52trdyU"
   },
   "source": [
    "## Utils\n",
    "\n",
    "Common functions and preprocessors used throughout the code."
   ]
  },
  {
   "cell_type": "code",
   "execution_count": null,
   "metadata": {
    "id": "kfQ6hYeQrdmY"
   },
   "outputs": [],
   "source": [
    "class MedicalDataProcessor:\n",
    "    \"\"\"Preprocessor to clean medical data and remove outcome leakage\"\"\"\n",
    "\n",
    "    @staticmethod\n",
    "    def remove_outcome_data(text_input):\n",
    "        \"\"\"Remove actual outcome columns from patient data using pandas\"\"\"\n",
    "        if not text_input or not isinstance(text_input, str):\n",
    "            return text_input\n",
    "    \n",
    "        try:\n",
    "            import json\n",
    "            data = json.loads(text_input.strip())\n",
    "            \n",
    "            if isinstance(data, list):\n",
    "                df = pd.DataFrame(data)\n",
    "            else:\n",
    "                df = pd.DataFrame([data])\n",
    "    \n",
    "            outcome_columns = ['actualicumortality', 'actualiculos', 'expired']\n",
    "            columns_to_drop = [col for col in outcome_columns if col in df.columns]\n",
    "    \n",
    "            if columns_to_drop:\n",
    "                df = df.drop(columns=columns_to_drop)\n",
    "                print(f\"Preprocessor: Removed {len(columns_to_drop)} outcome columns: {columns_to_drop}\")\n",
    "    \n",
    "            cleaned_text = df.to_csv(index=False)\n",
    "            print(f\"Preprocessor: Data shape after cleaning: {df.shape}\")\n",
    "    \n",
    "            return cleaned_text\n",
    "    \n",
    "        except Exception as e:\n",
    "            print(f\"Preprocessor error: {e}, falling back to original data\")\n",
    "            return text_input"
   ]
  },
  {
   "cell_type": "code",
   "execution_count": null,
   "metadata": {
    "id": "QYADiW__rdd4"
   },
   "outputs": [],
   "source": [
    "def extract_prediction_json(text_output):\n",
    "    \"\"\"Extract prediction JSON from model output\"\"\"\n",
    "    try:\n",
    "        json_pattern = r'\\{[^{}]*\"patient_id\"[^{}]*\\}'\n",
    "        json_match = re.search(json_pattern, text_output, re.DOTALL)\n",
    "\n",
    "        if json_match:\n",
    "            return json.loads(json_match.group())\n",
    "\n",
    "        return None\n",
    "    except:\n",
    "        return None"
   ]
  },
  {
   "cell_type": "code",
   "execution_count": null,
   "metadata": {
    "id": "rQGMR1j_sli7"
   },
   "outputs": [],
   "source": [
    "def extract_actual_outcome(raw_data, patient_id):\n",
    "    \"\"\"Extract actual outcome from raw MCP data using pandas\"\"\"\n",
    "    try:\n",
    "        if not raw_data or raw_data.strip() in ['[]', '[\\n\\n]', '']:\n",
    "            print(f\"MCP returned empty data for patient {patient_id}\")\n",
    "            return \"UNKNOWN\"\n",
    "        \n",
    "        data = json.loads(raw_data.strip())\n",
    "        \n",
    "        if isinstance(data, list):\n",
    "            df = pd.DataFrame(data)\n",
    "        else:\n",
    "            df = pd.DataFrame([data])\n",
    "\n",
    "        if df.empty:\n",
    "            print(f\"No data found for patient {patient_id}\")\n",
    "            return \"UNKNOWN\"\n",
    "            \n",
    "        patient_row = df[df['patientunitstayid'] == patient_id]\n",
    "        \n",
    "        if patient_row.empty:\n",
    "            return \"UNKNOWN\"\n",
    "        \n",
    "        if 'actualicumortality' in patient_row.columns:\n",
    "            mortality_value = patient_row['actualicumortality'].iloc[0]\n",
    "            return \"EXPIRED\" if pd.notna(mortality_value) and \"EXPIRED\" in str(mortality_value).upper() else \"SURVIVED\"\n",
    "        elif 'expired' in patient_row.columns:\n",
    "            expired_value = patient_row['expired'].iloc[0]\n",
    "            return \"EXPIRED\" if expired_value else \"SURVIVED\"\n",
    "        \n",
    "        return \"UNKNOWN\"\n",
    "        \n",
    "    except Exception as e:\n",
    "        print(f\"Error extracting outcome: {e}\")\n",
    "        return \"UNKNOWN\""
   ]
  },
  {
   "cell_type": "markdown",
   "metadata": {
    "id": "s5wrKZbN9T0B"
   },
   "source": [
    "## Test MCP Server Connection\n",
    "Verify that the MCP server is running and accessible."
   ]
  },
  {
   "cell_type": "code",
   "execution_count": null,
   "metadata": {
    "id": "8ZbJTVdA9MpQ"
   },
   "outputs": [],
   "source": [
    "# Create the MCP client agent\n",
    "test_agent = Agent(\n",
    "    agent_type=AgentTypes.MCP.value,\n",
    "    provider=\"mcp\",\n",
    "    mission=\"Test server connection\",\n",
    "    model_params={\"url\": MCP_URL, \"tool\": \"get_schema\"}\n",
    ")"
   ]
  },
  {
   "cell_type": "code",
   "execution_count": null,
   "metadata": {
    "id": "8MDaSN8V9c_b"
   },
   "outputs": [],
   "source": [
    "async def test_mcp_connection():\n",
    "    \"\"\"Test MCP server connection using simple flow\"\"\"\n",
    "    try:\n",
    "        test_task = Task(TextTaskInput(\"Get server schema\"), test_agent, log=False)\n",
    "        test_flow = Flow(tasks={\"test\": test_task}, map_paths={\"test\": []}, log=False)\n",
    "        \n",
    "        result = await test_flow.start()\n",
    "        schema_output = result[\"test\"][\"output\"]\n",
    "        \n",
    "        if schema_output and \"patientunitstayid\" in schema_output:\n",
    "            print(\"✓ MCP server connected successfully\")\n",
    "            return True\n",
    "        else:\n",
    "            print(\"✗ Patient ID column not found\")  \n",
    "            return False\n",
    "            \n",
    "    except Exception as e:\n",
    "        print(f\"✗ MCP connection failed: {e}\")\n",
    "        return False"
   ]
  },
  {
   "cell_type": "code",
   "execution_count": null,
   "metadata": {
    "id": "Ge6m-EJj9vxJ"
   },
   "outputs": [],
   "source": [
    "connected = await test_mcp_connection()"
   ]
  },
  {
   "cell_type": "markdown",
   "metadata": {
    "id": "A9QCLma6tTy4"
   },
   "source": [
    "## Prediction Flow\n",
    "\n",
    "Build a 2-agent flow to load patient data and predict mortality outcomes with preprocessing.\n"
   ]
  },
  {
   "cell_type": "markdown",
   "metadata": {
    "id": "-TWSf-3_tang"
   },
   "source": [
    "### Create Agents\n"
   ]
  },
  {
   "cell_type": "code",
   "execution_count": null,
   "metadata": {},
   "outputs": [],
   "source": [
    "PATIENT_IDS = [2834225, 1730330, 1591672, 1555349]"
   ]
  },
  {
   "cell_type": "code",
   "execution_count": null,
   "metadata": {},
   "outputs": [],
   "source": [
    "TEST_PATIENT_ID = PATIENT_IDS[0]"
   ]
  },
  {
   "cell_type": "code",
   "execution_count": null,
   "metadata": {
    "id": "cn88LfpY9z57"
   },
   "outputs": [],
   "source": [
    "# Set up MCP data loading agent\n",
    "data_agent = Agent(\n",
    "    agent_type=AgentTypes.MCP.value,\n",
    "    provider=\"mcp\",\n",
    "    mission=\"Load comprehensive patient clinical data\",\n",
    "    model_params={\n",
    "        \"url\": MCP_URL,\n",
    "        \"tool\": \"filter_rows\",\n",
    "        \"arg_column\": \"patientunitstayid\",\n",
    "        \"arg_operator\": \"==\",\n",
    "        \"arg_value\": TEST_PATIENT_ID\n",
    "    }\n",
    ")"
   ]
  },
  {
   "cell_type": "code",
   "execution_count": null,
   "metadata": {
    "id": "vpuSs73JuWvN"
   },
   "outputs": [],
   "source": [
    "# prediction agent\n",
    "prediction_agent = Agent(\n",
    "    agent_type=AgentTypes.TEXT.value,\n",
    "    provider=\"openai\",\n",
    "    mission=\"Predict patient mortality from clinical data\",\n",
    "    model_params={\n",
    "        \"key\": OPENAI_KEY,\n",
    "        \"model\": \"gpt-4o\",\n",
    "        \"max_tokens\": 1000\n",
    "    }\n",
    ")"
   ]
  },
  {
   "cell_type": "markdown",
   "metadata": {
    "id": "I-A4bAf4uhGN"
   },
   "source": [
    "### Create Tasks\n",
    "\n",
    "Define tasks with preprocessor to remove outcome data from prediction input."
   ]
  },
  {
   "cell_type": "code",
   "execution_count": null,
   "metadata": {
    "id": "MCMaYryVujor"
   },
   "outputs": [],
   "source": [
    "data_task = Task(\n",
    "    TextTaskInput(\"Load patient clinical data\"),\n",
    "    data_agent,\n",
    "    log=True\n",
    ")"
   ]
  },
  {
   "cell_type": "markdown",
   "metadata": {
    "id": "NsRxY_3Iuqcz"
   },
   "source": [
    "Prediction task"
   ]
  },
  {
   "cell_type": "code",
   "execution_count": null,
   "metadata": {
    "id": "m2WMtTaGumRe"
   },
   "outputs": [],
   "source": [
    "prediction_prompt = \"\"\"\n",
    "Analyze the patient clinical data and predict mortality outcome.\n",
    "\n",
    "Consider key clinical indicators:\n",
    "- Demographics and severity scores\n",
    "- Vital signs patterns\n",
    "- Lab data and abnormalities\n",
    "- APACHE predictions and scores\n",
    "\n",
    "IMPORTANT: Return ONLY valid JSON in this exact format:\n",
    "{\n",
    "  \"patient_id\": PATIENT_ID_FROM_DATA,\n",
    "  \"prediction\": \"EXPIRED or SURVIVED\",\n",
    "  \"key_factors\": [\"factor1\", \"factor2\", \"factor3\"]\n",
    "}\n",
    "\n",
    "Do not include any text before or after the JSON. Only return the JSON object.\n",
    "\"\"\""
   ]
  },
  {
   "cell_type": "code",
   "execution_count": null,
   "metadata": {
    "id": "FlfJ6gkhurxv"
   },
   "outputs": [],
   "source": [
    "prediction_task = Task(\n",
    "    TextTaskInput(prediction_prompt),\n",
    "    prediction_agent,\n",
    "    pre_process=MedicalDataProcessor.remove_outcome_data,\n",
    "    log=True\n",
    ")"
   ]
  },
  {
   "cell_type": "markdown",
   "metadata": {
    "id": "4n1niSStuucF"
   },
   "source": [
    "### Create Flow\n",
    "\n",
    "Connect the MCP data loading agent with the prediction agent using preprocessor."
   ]
  },
  {
   "cell_type": "code",
   "execution_count": null,
   "metadata": {
    "id": "An9zRnSvutvB"
   },
   "outputs": [],
   "source": [
    "flow = Flow(\n",
    "    tasks={\n",
    "        \"load_patient_data\": data_task,\n",
    "        \"predict_mortality\": prediction_task\n",
    "    },\n",
    "    map_paths={\n",
    "        \"load_patient_data\": [\"predict_mortality\"],\n",
    "    },\n",
    "    log=True\n",
    ")"
   ]
  },
  {
   "cell_type": "markdown",
   "metadata": {
    "id": "rhC4vsLuu482"
   },
   "source": [
    "#### Generate Flow Graph"
   ]
  },
  {
   "cell_type": "code",
   "execution_count": null,
   "metadata": {
    "id": "eg0MhyX9u5ga"
   },
   "outputs": [],
   "source": [
    "flow.generate_graph_img( name=\"mcp_medical_flow\", save_path=OUTPUT_DIR)"
   ]
  },
  {
   "cell_type": "markdown",
   "metadata": {
    "id": "e6qqmhNLvAOe"
   },
   "source": [
    "#### Execute Flow\n",
    "\n",
    "Run the prediction flow for the test patient. Change TEST_PATIENT_ID in previous cells"
   ]
  },
  {
   "cell_type": "code",
   "execution_count": null,
   "metadata": {
    "id": "20eWn91LvApb"
   },
   "outputs": [],
   "source": [
    "async def run_prediction_flow():\n",
    "    \"\"\"Run prediction flow for current TEST_PATIENT_ID\"\"\"\n",
    "\n",
    "    print(f\"\\nRunning prediction for patient {TEST_PATIENT_ID}...\")\n",
    "\n",
    "    # Update data agent with current test patient ID\n",
    "    data_agent.model_params[\"arg_value\"] = TEST_PATIENT_ID\n",
    "\n",
    "    try:\n",
    "        # Run flow\n",
    "        results = await flow.start()\n",
    "\n",
    "        raw_data = results[\"load_patient_data\"][\"output\"]\n",
    "        prediction_output = results[\"predict_mortality\"][\"output\"]\n",
    "\n",
    "        print(f\"Raw prediction output: {prediction_output[:150]}...\")\n",
    "\n",
    "        prediction_json = extract_prediction_json(prediction_output)\n",
    "        actual_outcome = extract_actual_outcome(raw_data, TEST_PATIENT_ID)\n",
    "\n",
    "        return prediction_json, actual_outcome\n",
    "\n",
    "    except Exception as e:\n",
    "        print(f\"✗ Flow execution error: {e}\")\n",
    "        return None, None"
   ]
  },
  {
   "cell_type": "code",
   "execution_count": null,
   "metadata": {
    "id": "cyTDBqYWvUWm"
   },
   "outputs": [],
   "source": [
    "prediction_result, actual_result = await run_prediction_flow()"
   ]
  },
  {
   "cell_type": "markdown",
   "metadata": {
    "id": "P_3mqG3Tvf_I"
   },
   "source": [
    "Compare prediction to actual outcome and display results."
   ]
  },
  {
   "cell_type": "code",
   "execution_count": null,
   "metadata": {
    "id": "AiojU5m3vgYc"
   },
   "outputs": [],
   "source": [
    "predicted = prediction_result.get(\"prediction\", \"UNKNOWN\")\n",
    "key_factors = prediction_result.get(\"key_factors\", [])"
   ]
  },
  {
   "cell_type": "code",
   "execution_count": null,
   "metadata": {
    "id": "F0-hMtfsvi9q"
   },
   "outputs": [],
   "source": [
    "print(\"\\n\" + \"=\"*50)\n",
    "print(\"PREDICTION RESULTS\")\n",
    "print(\"=\"*50)\n",
    "print(f\"Patient ID: {TEST_PATIENT_ID}\")\n",
    "print(f\"Predicted: {predicted}\")\n",
    "print(f\"Actual: {actual_result}\")\n",
    "print(f\"Correct: {'✓' if predicted == actual_result else '✗'}\")\n",
    "print(f\"Key factors: {', '.join(key_factors)}\")\n",
    "print(\"=\"*50)"
   ]
  },
  {
   "cell_type": "markdown",
   "metadata": {},
   "source": [
    "# Appendix"
   ]
  },
  {
   "cell_type": "markdown",
   "metadata": {},
   "source": [
    "## Get all patients"
   ]
  },
  {
   "cell_type": "code",
   "execution_count": null,
   "metadata": {},
   "outputs": [],
   "source": [
    "async def get_all_patient_ids_via_flow():\n",
    "    \"\"\"Get all patient IDs using MCP flow only\"\"\"\n",
    "    try:\n",
    "        # Create agent to get all data from server\n",
    "        get_all_agent = Agent(\n",
    "            agent_type=AgentTypes.MCP.value,\n",
    "            provider=\"mcp\",\n",
    "            mission=\"Get all patient data\",\n",
    "            model_params={\n",
    "                \"url\": MCP_URL,\n",
    "                \"tool\": \"get_head\",\n",
    "                \"arg_n\": 50  # Get enough rows to capture all patients\n",
    "            }\n",
    "        )\n",
    "        \n",
    "        # Create simple flow\n",
    "        get_all_task = Task(TextTaskInput(\"Get all patients\"), get_all_agent, log=False)\n",
    "        get_all_flow = Flow(\n",
    "            tasks={\"get_all\": get_all_task},\n",
    "            map_paths={\"get_all\": []},\n",
    "            log=False\n",
    "        )\n",
    "        \n",
    "        # Execute flow\n",
    "        result = await get_all_flow.start()\n",
    "        raw_data = result[\"get_all\"][\"output\"]\n",
    "        \n",
    "        # Parse JSON response and extract patient IDs\n",
    "        \n",
    "        data = json.loads(raw_data.strip())\n",
    "        df = pd.DataFrame(data)\n",
    "        \n",
    "        # Get unique patient IDs\n",
    "        patient_ids = df['patientunitstayid'].unique().tolist()\n",
    "        print(f\"Found {len(patient_ids)} patients via MCP flow\")\n",
    "        return patient_ids\n",
    "        \n",
    "    except Exception as e:\n",
    "        print(f\"Error getting patient IDs via flow: {e}\")\n",
    "        return [2834225, 1730330, 1591672, 1555349]"
   ]
  },
  {
   "cell_type": "code",
   "execution_count": null,
   "metadata": {},
   "outputs": [],
   "source": [
    "PATIENT_IDS = await get_all_patient_ids_via_flow()\n",
    "PATIENT_IDS"
   ]
  },
  {
   "cell_type": "code",
   "execution_count": null,
   "metadata": {},
   "outputs": [],
   "source": []
  }
 ],
 "metadata": {
  "colab": {
   "provenance": []
  },
  "kernelspec": {
   "display_name": "Python 3 (ipykernel)",
   "language": "python",
   "name": "python3"
  },
  "language_info": {
   "codemirror_mode": {
    "name": "ipython",
    "version": 3
   },
   "file_extension": ".py",
   "mimetype": "text/x-python",
   "name": "python",
   "nbconvert_exporter": "python",
   "pygments_lexer": "ipython3",
   "version": "3.12.4"
  }
 },
 "nbformat": 4,
 "nbformat_minor": 4
}
