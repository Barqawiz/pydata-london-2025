{
 "cells": [
  {
   "cell_type": "markdown",
   "metadata": {
    "id": "wjfI6Dew8T5q"
   },
   "source": [
    "# MCP Medical Prediction System for eICU Data\n",
    "\n",
    "\n",
    "\n",
    "This notebook demonstrates how to build a medical prediction system using IntelliNode, where:\n",
    "\n",
    "- **MCP Server**: Serves patient data from eICU dataset via HTTP.\n",
    "- **Context Agent**: Loads patient data from MCP server.\n",
    "- **Prediction Agent**: Predicts patient mortality using clinical data and few-shot learning.\n",
    "\n",
    "The provided data is a sample of 10 patients from physionet (eICU Collaborative Research Database).\n"
   ]
  },
  {
   "cell_type": "markdown",
   "metadata": {
    "id": "HvlK08B28gAx"
   },
   "source": [
    "**Objectives**\n",
    "\n",
    "In this tutorial, you will learn how to:\n",
    "\n",
    "- Set up MCP DataFrame server for serving medical data over HTTP.\n",
    "- Create MCP client agents to query structured data.\n",
    "- Build a 2-agent flow for data loading and prediction."
   ]
  },
  {
   "cell_type": "markdown",
   "metadata": {
    "id": "ftGrqDt98tMt"
   },
   "source": [
    "## Setup and Imports"
   ]
  },
  {
   "cell_type": "code",
   "execution_count": 5,
   "metadata": {},
   "outputs": [
    {
     "name": "stdout",
     "output_type": "stream",
     "text": [
      "Requirement already satisfied: polars in /opt/anaconda3/lib/python3.12/site-packages (1.30.0)\n"
     ]
    }
   ],
   "source": [
    "!pip install polars"
   ]
  },
  {
   "cell_type": "code",
   "execution_count": 6,
   "metadata": {
    "id": "nNVK4dJF8yBE"
   },
   "outputs": [
    {
     "name": "stdout",
     "output_type": "stream",
     "text": [
      "Requirement already satisfied: python-dotenv in /opt/anaconda3/lib/python3.12/site-packages (1.0.1)\n",
      "Requirement already satisfied: intelli[mcp] in /opt/anaconda3/lib/python3.12/site-packages (1.1.6)\n",
      "Requirement already satisfied: networkx>=3.2.0 in /opt/anaconda3/lib/python3.12/site-packages (from intelli[mcp]) (3.2.1)\n",
      "Requirement already satisfied: mcp~=1.9.0 in /opt/anaconda3/lib/python3.12/site-packages (from mcp[cli,ws]~=1.9.0; extra == \"mcp\"->intelli[mcp]) (1.9.0)\n",
      "Requirement already satisfied: pandas in /opt/anaconda3/lib/python3.12/site-packages (from intelli[mcp]) (2.2.2)\n",
      "Requirement already satisfied: anyio>=4.5 in /opt/anaconda3/lib/python3.12/site-packages (from mcp~=1.9.0->mcp[cli,ws]~=1.9.0; extra == \"mcp\"->intelli[mcp]) (4.9.0)\n",
      "Requirement already satisfied: httpx-sse>=0.4 in /opt/anaconda3/lib/python3.12/site-packages (from mcp~=1.9.0->mcp[cli,ws]~=1.9.0; extra == \"mcp\"->intelli[mcp]) (0.4.0)\n",
      "Requirement already satisfied: httpx>=0.27 in /opt/anaconda3/lib/python3.12/site-packages (from mcp~=1.9.0->mcp[cli,ws]~=1.9.0; extra == \"mcp\"->intelli[mcp]) (0.28.1)\n",
      "Requirement already satisfied: pydantic-settings>=2.5.2 in /opt/anaconda3/lib/python3.12/site-packages (from mcp~=1.9.0->mcp[cli,ws]~=1.9.0; extra == \"mcp\"->intelli[mcp]) (2.9.1)\n",
      "Requirement already satisfied: pydantic<3.0.0,>=2.7.2 in /opt/anaconda3/lib/python3.12/site-packages (from mcp~=1.9.0->mcp[cli,ws]~=1.9.0; extra == \"mcp\"->intelli[mcp]) (2.11.4)\n",
      "Requirement already satisfied: python-multipart>=0.0.9 in /opt/anaconda3/lib/python3.12/site-packages (from mcp~=1.9.0->mcp[cli,ws]~=1.9.0; extra == \"mcp\"->intelli[mcp]) (0.0.20)\n",
      "Requirement already satisfied: sse-starlette>=1.6.1 in /opt/anaconda3/lib/python3.12/site-packages (from mcp~=1.9.0->mcp[cli,ws]~=1.9.0; extra == \"mcp\"->intelli[mcp]) (2.3.5)\n",
      "Requirement already satisfied: starlette>=0.27 in /opt/anaconda3/lib/python3.12/site-packages (from mcp~=1.9.0->mcp[cli,ws]~=1.9.0; extra == \"mcp\"->intelli[mcp]) (0.46.2)\n",
      "Requirement already satisfied: uvicorn>=0.23.1 in /opt/anaconda3/lib/python3.12/site-packages (from mcp~=1.9.0->mcp[cli,ws]~=1.9.0; extra == \"mcp\"->intelli[mcp]) (0.34.2)\n",
      "Requirement already satisfied: typer>=0.12.4 in /opt/anaconda3/lib/python3.12/site-packages (from mcp[cli,ws]~=1.9.0; extra == \"mcp\"->intelli[mcp]) (0.15.4)\n",
      "Requirement already satisfied: websockets>=15.0.1 in /opt/anaconda3/lib/python3.12/site-packages (from mcp[cli,ws]~=1.9.0; extra == \"mcp\"->intelli[mcp]) (15.0.1)\n",
      "Requirement already satisfied: numpy>=1.26.0 in /opt/anaconda3/lib/python3.12/site-packages (from pandas->intelli[mcp]) (2.1.3)\n",
      "Requirement already satisfied: python-dateutil>=2.8.2 in /opt/anaconda3/lib/python3.12/site-packages (from pandas->intelli[mcp]) (2.9.0.post0)\n",
      "Requirement already satisfied: pytz>=2020.1 in /opt/anaconda3/lib/python3.12/site-packages (from pandas->intelli[mcp]) (2024.1)\n",
      "Requirement already satisfied: tzdata>=2022.7 in /opt/anaconda3/lib/python3.12/site-packages (from pandas->intelli[mcp]) (2023.3)\n",
      "Requirement already satisfied: idna>=2.8 in /opt/anaconda3/lib/python3.12/site-packages (from anyio>=4.5->mcp~=1.9.0->mcp[cli,ws]~=1.9.0; extra == \"mcp\"->intelli[mcp]) (3.10)\n",
      "Requirement already satisfied: sniffio>=1.1 in /opt/anaconda3/lib/python3.12/site-packages (from anyio>=4.5->mcp~=1.9.0->mcp[cli,ws]~=1.9.0; extra == \"mcp\"->intelli[mcp]) (1.3.1)\n",
      "Requirement already satisfied: typing_extensions>=4.5 in /opt/anaconda3/lib/python3.12/site-packages (from anyio>=4.5->mcp~=1.9.0->mcp[cli,ws]~=1.9.0; extra == \"mcp\"->intelli[mcp]) (4.13.2)\n",
      "Requirement already satisfied: certifi in /opt/anaconda3/lib/python3.12/site-packages (from httpx>=0.27->mcp~=1.9.0->mcp[cli,ws]~=1.9.0; extra == \"mcp\"->intelli[mcp]) (2025.4.26)\n",
      "Requirement already satisfied: httpcore==1.* in /opt/anaconda3/lib/python3.12/site-packages (from httpx>=0.27->mcp~=1.9.0->mcp[cli,ws]~=1.9.0; extra == \"mcp\"->intelli[mcp]) (1.0.9)\n",
      "Requirement already satisfied: h11>=0.16 in /opt/anaconda3/lib/python3.12/site-packages (from httpcore==1.*->httpx>=0.27->mcp~=1.9.0->mcp[cli,ws]~=1.9.0; extra == \"mcp\"->intelli[mcp]) (0.16.0)\n",
      "Requirement already satisfied: annotated-types>=0.6.0 in /opt/anaconda3/lib/python3.12/site-packages (from pydantic<3.0.0,>=2.7.2->mcp~=1.9.0->mcp[cli,ws]~=1.9.0; extra == \"mcp\"->intelli[mcp]) (0.7.0)\n",
      "Requirement already satisfied: pydantic-core==2.33.2 in /opt/anaconda3/lib/python3.12/site-packages (from pydantic<3.0.0,>=2.7.2->mcp~=1.9.0->mcp[cli,ws]~=1.9.0; extra == \"mcp\"->intelli[mcp]) (2.33.2)\n",
      "Requirement already satisfied: typing-inspection>=0.4.0 in /opt/anaconda3/lib/python3.12/site-packages (from pydantic<3.0.0,>=2.7.2->mcp~=1.9.0->mcp[cli,ws]~=1.9.0; extra == \"mcp\"->intelli[mcp]) (0.4.0)\n",
      "Requirement already satisfied: six>=1.5 in /opt/anaconda3/lib/python3.12/site-packages (from python-dateutil>=2.8.2->pandas->intelli[mcp]) (1.17.0)\n",
      "Requirement already satisfied: click<8.2,>=8.0.0 in /opt/anaconda3/lib/python3.12/site-packages (from typer>=0.12.4->mcp[cli,ws]~=1.9.0; extra == \"mcp\"->intelli[mcp]) (8.1.8)\n",
      "Requirement already satisfied: shellingham>=1.3.0 in /opt/anaconda3/lib/python3.12/site-packages (from typer>=0.12.4->mcp[cli,ws]~=1.9.0; extra == \"mcp\"->intelli[mcp]) (1.5.4)\n",
      "Requirement already satisfied: rich>=10.11.0 in /opt/anaconda3/lib/python3.12/site-packages (from typer>=0.12.4->mcp[cli,ws]~=1.9.0; extra == \"mcp\"->intelli[mcp]) (14.0.0)\n",
      "Requirement already satisfied: markdown-it-py>=2.2.0 in /opt/anaconda3/lib/python3.12/site-packages (from rich>=10.11.0->typer>=0.12.4->mcp[cli,ws]~=1.9.0; extra == \"mcp\"->intelli[mcp]) (3.0.0)\n",
      "Requirement already satisfied: pygments<3.0.0,>=2.13.0 in /opt/anaconda3/lib/python3.12/site-packages (from rich>=10.11.0->typer>=0.12.4->mcp[cli,ws]~=1.9.0; extra == \"mcp\"->intelli[mcp]) (2.19.1)\n",
      "Requirement already satisfied: mdurl~=0.1 in /opt/anaconda3/lib/python3.12/site-packages (from markdown-it-py>=2.2.0->rich>=10.11.0->typer>=0.12.4->mcp[cli,ws]~=1.9.0; extra == \"mcp\"->intelli[mcp]) (0.1.2)\n"
     ]
    }
   ],
   "source": [
    "!pip install \"intelli[mcp]\" python-dotenv"
   ]
  },
  {
   "cell_type": "code",
   "execution_count": 8,
   "metadata": {
    "id": "4ZbEIlNp803Q"
   },
   "outputs": [],
   "source": [
    "import os\n",
    "import asyncio\n",
    "import json\n",
    "import pandas as pd\n",
    "import re\n",
    "from dotenv import load_dotenv\n",
    "from intelli.flow import Agent, Task, Flow, TextTaskInput, AgentTypes"
   ]
  },
  {
   "cell_type": "code",
   "execution_count": 11,
   "metadata": {
    "id": "WeqM3ww_87vC"
   },
   "outputs": [
    {
     "data": {
      "text/plain": [
       "True"
      ]
     },
     "execution_count": 11,
     "metadata": {},
     "output_type": "execute_result"
    }
   ],
   "source": [
    "load_dotenv()\n"
   ]
  },
  {
   "cell_type": "code",
   "execution_count": 13,
   "metadata": {
    "id": "bsW0uiSy9D5Y"
   },
   "outputs": [],
   "source": [
    "# Config\n",
    "OPENAI_KEY = os.getenv(\"OPENAI_API_KEY\")\n",
    "MCP_URL = \"http://localhost:8000/mcp\"\n",
    "OUTPUT_DIR = \"./output\""
   ]
  },
  {
   "cell_type": "markdown",
   "metadata": {
    "id": "hKVW4-da9I4h"
   },
   "source": [
    "Prepare the output folder and validate the keys"
   ]
  },
  {
   "cell_type": "code",
   "execution_count": 16,
   "metadata": {
    "id": "xD3oqdbD9Gi2"
   },
   "outputs": [
    {
     "name": "stdout",
     "output_type": "stream",
     "text": [
      "OpenAI key: ✓\n"
     ]
    }
   ],
   "source": [
    "os.makedirs(OUTPUT_DIR, exist_ok=True)\n",
    "print(f\"OpenAI key: {'✓' if OPENAI_KEY else '✗'}\")"
   ]
  },
  {
   "cell_type": "markdown",
   "metadata": {
    "id": "I6_JZ52trdyU"
   },
   "source": [
    "## Utils\n",
    "\n",
    "Common functions and preprocessors used throughout the code."
   ]
  },
  {
   "cell_type": "code",
   "execution_count": 19,
   "metadata": {
    "id": "kfQ6hYeQrdmY"
   },
   "outputs": [],
   "source": [
    "class MedicalDataProcessor:\n",
    "    \"\"\"Preprocessor to clean medical data and remove outcome leakage\"\"\"\n",
    "\n",
    "    @staticmethod\n",
    "    def remove_outcome_data(text_input):\n",
    "        \"\"\"Remove actual outcome columns from patient data using pandas\"\"\"\n",
    "        if not text_input or not isinstance(text_input, str):\n",
    "            return text_input\n",
    "    \n",
    "        try:\n",
    "            import json\n",
    "            data = json.loads(text_input.strip())\n",
    "            \n",
    "            if isinstance(data, list):\n",
    "                df = pd.DataFrame(data)\n",
    "            else:\n",
    "                df = pd.DataFrame([data])\n",
    "    \n",
    "            outcome_columns = ['actualicumortality', 'actualiculos', 'expired']\n",
    "            columns_to_drop = [col for col in outcome_columns if col in df.columns]\n",
    "    \n",
    "            if columns_to_drop:\n",
    "                df = df.drop(columns=columns_to_drop)\n",
    "                print(f\"Preprocessor: Removed {len(columns_to_drop)} outcome columns: {columns_to_drop}\")\n",
    "    \n",
    "            cleaned_text = df.to_csv(index=False)\n",
    "            print(f\"Preprocessor: Data shape after cleaning: {df.shape}\")\n",
    "    \n",
    "            return cleaned_text\n",
    "    \n",
    "        except Exception as e:\n",
    "            print(f\"Preprocessor error: {e}, falling back to original data\")\n",
    "            return text_input"
   ]
  },
  {
   "cell_type": "code",
   "execution_count": 21,
   "metadata": {
    "id": "QYADiW__rdd4"
   },
   "outputs": [],
   "source": [
    "def extract_prediction_json(text_output):\n",
    "    \"\"\"Extract prediction JSON from model output\"\"\"\n",
    "    try:\n",
    "        json_pattern = r'\\{[^{}]*\"patient_id\"[^{}]*\\}'\n",
    "        json_match = re.search(json_pattern, text_output, re.DOTALL)\n",
    "\n",
    "        if json_match:\n",
    "            return json.loads(json_match.group())\n",
    "\n",
    "        return None\n",
    "    except:\n",
    "        return None"
   ]
  },
  {
   "cell_type": "code",
   "execution_count": 23,
   "metadata": {
    "id": "rQGMR1j_sli7"
   },
   "outputs": [],
   "source": [
    "def extract_actual_outcome(raw_data, patient_id):\n",
    "    \"\"\"Extract actual outcome from raw MCP data using pandas\"\"\"\n",
    "    try:\n",
    "        if not raw_data or raw_data.strip() in ['[]', '[\\n\\n]', '']:\n",
    "            print(f\"MCP returned empty data for patient {patient_id}\")\n",
    "            return \"UNKNOWN\"\n",
    "        \n",
    "        data = json.loads(raw_data.strip())\n",
    "        \n",
    "        if isinstance(data, list):\n",
    "            df = pd.DataFrame(data)\n",
    "        else:\n",
    "            df = pd.DataFrame([data])\n",
    "\n",
    "        if df.empty:\n",
    "            print(f\"No data found for patient {patient_id}\")\n",
    "            return \"UNKNOWN\"\n",
    "            \n",
    "        patient_row = df[df['patientunitstayid'] == patient_id]\n",
    "        \n",
    "        if patient_row.empty:\n",
    "            return \"UNKNOWN\"\n",
    "        \n",
    "        if 'actualicumortality' in patient_row.columns:\n",
    "            mortality_value = patient_row['actualicumortality'].iloc[0]\n",
    "            return \"EXPIRED\" if pd.notna(mortality_value) and \"EXPIRED\" in str(mortality_value).upper() else \"SURVIVED\"\n",
    "        elif 'expired' in patient_row.columns:\n",
    "            expired_value = patient_row['expired'].iloc[0]\n",
    "            return \"EXPIRED\" if expired_value else \"SURVIVED\"\n",
    "        \n",
    "        return \"UNKNOWN\"\n",
    "        \n",
    "    except Exception as e:\n",
    "        print(f\"Error extracting outcome: {e}\")\n",
    "        return \"UNKNOWN\""
   ]
  },
  {
   "cell_type": "markdown",
   "metadata": {
    "id": "s5wrKZbN9T0B"
   },
   "source": [
    "## Test MCP Server Connection\n",
    "Verify that the MCP server is running and accessible."
   ]
  },
  {
   "cell_type": "code",
   "execution_count": 26,
   "metadata": {
    "id": "8ZbJTVdA9MpQ"
   },
   "outputs": [],
   "source": [
    "# Create the MCP client agent\n",
    "test_agent = Agent(\n",
    "    agent_type=AgentTypes.MCP.value,\n",
    "    provider=\"mcp\",\n",
    "    mission=\"Test server connection\",\n",
    "    model_params={\"url\": MCP_URL, \"tool\": \"get_schema\"}\n",
    ")"
   ]
  },
  {
   "cell_type": "code",
   "execution_count": 28,
   "metadata": {
    "id": "8MDaSN8V9c_b"
   },
   "outputs": [],
   "source": [
    "async def test_mcp_connection():\n",
    "    \"\"\"Test MCP server connection using simple flow\"\"\"\n",
    "    try:\n",
    "        test_task = Task(TextTaskInput(\"Get server schema\"), test_agent, log=False)\n",
    "        test_flow = Flow(tasks={\"test\": test_task}, map_paths={\"test\": []}, log=False)\n",
    "        \n",
    "        result = await test_flow.start()\n",
    "        schema_output = result[\"test\"][\"output\"]\n",
    "        \n",
    "        if schema_output and \"patientunitstayid\" in schema_output:\n",
    "            print(\"✓ MCP server connected successfully\")\n",
    "            return True\n",
    "        else:\n",
    "            print(\"✗ Patient ID column not found\")  \n",
    "            return False\n",
    "            \n",
    "    except Exception as e:\n",
    "        print(f\"✗ MCP connection failed: {e}\")\n",
    "        return False"
   ]
  },
  {
   "cell_type": "code",
   "execution_count": 30,
   "metadata": {
    "id": "Ge6m-EJj9vxJ"
   },
   "outputs": [
    {
     "name": "stdout",
     "output_type": "stream",
     "text": [
      "Intelli MCPWrapper: Using streamablehttp_client for HTTP.\n",
      "MCP Agent executing tool 'get_schema' with arguments: {}\n",
      "Executing MCP tool 'get_schema' with arguments: {}\n",
      "Filtered arguments for tool call: {}\n",
      "Intelli MCPWrapper: Using full URL: http://localhost:8000/mcp for HTTP connection\n",
      "Intelli MCPWrapper: Connecting to HTTP MCP server at http://localhost:8000/mcp\n",
      "MCP tool execution result: meta=None content=[TextContent(type='text', text='{\\n  \"patientunitstayid\": \"int64\",\\n  \"age\": \"int64\",\\n  \"gender\": \"object\",\\n  \"admissionheight\": \"float64\",\\n  \"admissionweight\": \"float64\",\\n  \"actualicumortality\": \"object\",\\n  \"actualiculos\": \"float64\",\\n  \"lab_count\": \"int64\",\\n  \"has_wbc\": \"bool\",\\n  \"has_creatinine\": \"bool\",\\n  \"has_lactate\": \"bool\",\\n  \"has_bilirubin\": \"bool\",\\n  \"has_glucose\": \"bool\",\\n  \"heartrate_mean\": \"float64\",\\n  \"heartrate_max\": \"float64\",\\n  \"systemicsystolic_mean\": \"float64\",\\n  \"systemicsystolic_max\": \"float64\",\\n  \"temperature_mean\": \"float64\",\\n  \"temperature_max\": \"float64\",\\n  \"expired\": \"bool\"\\n}', annotations=None)] isError=False\n",
      "✓ MCP server connected successfully\n"
     ]
    }
   ],
   "source": [
    "connected = await test_mcp_connection()"
   ]
  },
  {
   "cell_type": "markdown",
   "metadata": {
    "id": "A9QCLma6tTy4"
   },
   "source": [
    "## Prediction Flow\n",
    "\n",
    "Build a 2-agent flow to load patient data and predict mortality outcomes with preprocessing.\n"
   ]
  },
  {
   "cell_type": "markdown",
   "metadata": {
    "id": "-TWSf-3_tang"
   },
   "source": [
    "### Create Agents\n"
   ]
  },
  {
   "cell_type": "code",
   "execution_count": 34,
   "metadata": {},
   "outputs": [],
   "source": [
    "PATIENT_IDS = [2834225, 1730330, 1591672, 1555349]"
   ]
  },
  {
   "cell_type": "code",
   "execution_count": 36,
   "metadata": {},
   "outputs": [],
   "source": [
    "TEST_PATIENT_ID = PATIENT_IDS[0]"
   ]
  },
  {
   "cell_type": "code",
   "execution_count": 38,
   "metadata": {
    "id": "cn88LfpY9z57"
   },
   "outputs": [],
   "source": [
    "# Set up MCP data loading agent\n",
    "data_agent = Agent(\n",
    "    agent_type=AgentTypes.MCP.value,\n",
    "    provider=\"mcp\",\n",
    "    mission=\"Load comprehensive patient clinical data\",\n",
    "    model_params={\n",
    "        \"url\": MCP_URL,\n",
    "        \"tool\": \"filter_rows\",\n",
    "        \"arg_column\": \"patientunitstayid\",\n",
    "        \"arg_operator\": \"==\",\n",
    "        \"arg_value\": TEST_PATIENT_ID\n",
    "    }\n",
    ")"
   ]
  },
  {
   "cell_type": "code",
   "execution_count": 40,
   "metadata": {
    "id": "vpuSs73JuWvN"
   },
   "outputs": [],
   "source": [
    "# prediction agent\n",
    "prediction_agent = Agent(\n",
    "    agent_type=AgentTypes.TEXT.value,\n",
    "    provider=\"openai\",\n",
    "    mission=\"Predict patient mortality from clinical data\",\n",
    "    model_params={\n",
    "        \"key\": OPENAI_KEY,\n",
    "        \"model\": \"gpt-4o\",\n",
    "        \"max_tokens\": 1000\n",
    "    }\n",
    ")"
   ]
  },
  {
   "cell_type": "markdown",
   "metadata": {
    "id": "I-A4bAf4uhGN"
   },
   "source": [
    "### Create Tasks\n",
    "\n",
    "Define tasks with preprocessor to remove outcome data from prediction input."
   ]
  },
  {
   "cell_type": "code",
   "execution_count": 43,
   "metadata": {
    "id": "MCMaYryVujor"
   },
   "outputs": [],
   "source": [
    "data_task = Task(\n",
    "    TextTaskInput(\"Load patient clinical data\"),\n",
    "    data_agent,\n",
    "    log=True\n",
    ")"
   ]
  },
  {
   "cell_type": "markdown",
   "metadata": {
    "id": "NsRxY_3Iuqcz"
   },
   "source": [
    "Prediction task"
   ]
  },
  {
   "cell_type": "code",
   "execution_count": 46,
   "metadata": {
    "id": "m2WMtTaGumRe"
   },
   "outputs": [],
   "source": [
    "prediction_prompt = \"\"\"\n",
    "Analyze the patient clinical data and predict mortality outcome.\n",
    "\n",
    "Consider key clinical indicators:\n",
    "- Demographics and severity scores\n",
    "- Vital signs patterns\n",
    "- Lab data and abnormalities\n",
    "- APACHE predictions and scores\n",
    "\n",
    "IMPORTANT: Return ONLY valid JSON in this exact format:\n",
    "{\n",
    "  \"patient_id\": PATIENT_ID_FROM_DATA,\n",
    "  \"prediction\": \"EXPIRED or SURVIVED\",\n",
    "  \"key_factors\": [\"factor1\", \"factor2\", \"factor3\"]\n",
    "}\n",
    "\n",
    "Do not include any text before or after the JSON. Only return the JSON object.\n",
    "\"\"\""
   ]
  },
  {
   "cell_type": "code",
   "execution_count": 48,
   "metadata": {
    "id": "FlfJ6gkhurxv"
   },
   "outputs": [],
   "source": [
    "prediction_task = Task(\n",
    "    TextTaskInput(prediction_prompt),\n",
    "    prediction_agent,\n",
    "    pre_process=MedicalDataProcessor.remove_outcome_data,\n",
    "    log=True\n",
    ")"
   ]
  },
  {
   "cell_type": "markdown",
   "metadata": {
    "id": "4n1niSStuucF"
   },
   "source": [
    "### Create Flow\n",
    "\n",
    "Connect the MCP data loading agent with the prediction agent using preprocessor."
   ]
  },
  {
   "cell_type": "code",
   "execution_count": 51,
   "metadata": {
    "id": "An9zRnSvutvB"
   },
   "outputs": [],
   "source": [
    "flow = Flow(\n",
    "    tasks={\n",
    "        \"load_patient_data\": data_task,\n",
    "        \"predict_mortality\": prediction_task\n",
    "    },\n",
    "    map_paths={\n",
    "        \"load_patient_data\": [\"predict_mortality\"],\n",
    "    },\n",
    "    log=True\n",
    ")"
   ]
  },
  {
   "cell_type": "markdown",
   "metadata": {
    "id": "rhC4vsLuu482"
   },
   "source": [
    "#### Generate Flow Graph"
   ]
  },
  {
   "cell_type": "code",
   "execution_count": 54,
   "metadata": {
    "id": "eg0MhyX9u5ga"
   },
   "outputs": [
    {
     "data": {
      "text/plain": [
       "'./output/mcp_medical_flow.png'"
      ]
     },
     "execution_count": 54,
     "metadata": {},
     "output_type": "execute_result"
    }
   ],
   "source": [
    "flow.generate_graph_img( name=\"mcp_medical_flow\", save_path=OUTPUT_DIR)"
   ]
  },
  {
   "cell_type": "markdown",
   "metadata": {
    "id": "e6qqmhNLvAOe"
   },
   "source": [
    "#### Execute Flow\n",
    "\n",
    "Run the prediction flow for the test patient. Change TEST_PATIENT_ID in previous cells"
   ]
  },
  {
   "cell_type": "code",
   "execution_count": 57,
   "metadata": {
    "id": "20eWn91LvApb"
   },
   "outputs": [],
   "source": [
    "async def run_prediction_flow():\n",
    "    \"\"\"Run prediction flow for current TEST_PATIENT_ID\"\"\"\n",
    "\n",
    "    print(f\"\\nRunning prediction for patient {TEST_PATIENT_ID}...\")\n",
    "\n",
    "    # Update data agent with current test patient ID\n",
    "    data_agent.model_params[\"arg_value\"] = TEST_PATIENT_ID\n",
    "\n",
    "    try:\n",
    "        # Run flow\n",
    "        results = await flow.start()\n",
    "\n",
    "        raw_data = results[\"load_patient_data\"][\"output\"]\n",
    "        prediction_output = results[\"predict_mortality\"][\"output\"]\n",
    "\n",
    "        print(f\"Raw prediction output: {prediction_output[:150]}...\")\n",
    "\n",
    "        prediction_json = extract_prediction_json(prediction_output)\n",
    "        actual_outcome = extract_actual_outcome(raw_data, TEST_PATIENT_ID)\n",
    "\n",
    "        return prediction_json, actual_outcome\n",
    "\n",
    "    except Exception as e:\n",
    "        print(f\"✗ Flow execution error: {e}\")\n",
    "        return None, None"
   ]
  },
  {
   "cell_type": "code",
   "execution_count": 59,
   "metadata": {
    "id": "cyTDBqYWvUWm",
    "scrolled": true
   },
   "outputs": [
    {
     "name": "stdout",
     "output_type": "stream",
     "text": [
      "\n",
      "Running prediction for patient 2834225...\n",
      "---- Execute task load_patient_data (mcp/mcp) ----\n",
      "MCP Agent executing tool 'filter_rows' with arguments: {'column': 'patientunitstayid', 'operator': '==', 'value': 2834225}\n",
      "Executing MCP tool 'filter_rows' with arguments: {'column': 'patientunitstayid', 'operator': '==', 'value': 2834225}\n",
      "Filtered arguments for tool call: {'column': 'patientunitstayid', 'operator': '==', 'value': 2834225}\n",
      "Intelli MCPWrapper: Using full URL: http://localhost:8000/mcp for HTTP connection\n",
      "Intelli MCPWrapper: Connecting to HTTP MCP server at http://localhost:8000/mcp\n",
      "MCP tool execution result: meta=None content=[TextContent(type='text', text='[\\n  {\\n    \"patientunitstayid\":2834225,\\n    \"age\":57,\\n    \"gender\":\"Female\",\\n    \"admissionheight\":165.0,\\n    \"admissionweight\":95.0,\\n    \"actualicumortality\":\"ALIVE\",\\n    \"actualiculos\":9.727,\\n    \"lab_count\":566,\\n    \"has_wbc\":true,\\n    \"has_creatinine\":true,\\n    \"has_lactate\":true,\\n    \"has_bilirubin\":true,\\n    \"has_glucose\":true,\\n    \"heartrate_mean\":90.7,\\n    \"heartrate_max\":142.0,\\n    \"systemicsystolic_mean\":null,\\n    \"systemicsystolic_max\":null,\\n    \"temperature_mean\":null,\\n    \"temperature_max\":null,\\n    \"expired\":false\\n  }\\n]', annotations=None)] isError=False\n",
      "- The task output count: : 538\n",
      "Task load_patient_data executed successfully\n",
      "Task load_patient_data output type: text\n",
      "---- Execute task predict_mortality (text/openai) ----\n",
      "Task text expects input type: text\n",
      "Found matching input type with 1 outputs\n",
      "- Inside the task with input data head: : [\n",
      "  {\n",
      "    \"patientunitstayid\":2834225,\n",
      "    \"age\":57,\n",
      "    \"gender\":\"Female\",\n",
      "    \"admissionheight\":165.0,\n",
      "    \"admissionweight\":95.0,\n",
      "    \"actualicumortality\":\"ALIVE\",\n",
      "    \"actualiculos\":9.727,\n",
      "    \"la\n",
      "Preprocessor: Removed 3 outcome columns: ['actualicumortality', 'actualiculos', 'expired']\n",
      "Preprocessor: Data shape after cleaning: (1, 17)\n",
      "Pre-processing completed\n",
      "- Input data with template: : PREVIOUS_ANALYSIS: {0}\n",
      "CURRENT_TASK: \n",
      "Analyze the patient clinical data and predict mortality outcome.\n",
      "\n",
      "Consider key clinical indicators:\n",
      "- Demographics and severity scores\n",
      "- Vital signs patterns\n",
      "- La\n",
      "- The task output head: : {\n",
      "  \"patient_id\": 2834225,\n",
      "  \"prediction\": \"EXPIRED\",\n",
      "  \"key_factors\": [\"high heartrate_max\", \"lab abnormalities\", \"elevated APACHE predictions\"]\n",
      "}\n",
      "Task predict_mortality executed successfully\n",
      "Task predict_mortality output type: text\n",
      "Flow completed successfully\n",
      "Raw prediction output: {\n",
      "  \"patient_id\": 2834225,\n",
      "  \"prediction\": \"EXPIRED\",\n",
      "  \"key_factors\": [\"high heartrate_max\", \"lab abnormalities\", \"elevated APACHE predictions\"]\n",
      "}...\n"
     ]
    }
   ],
   "source": [
    "prediction_result, actual_result = await run_prediction_flow()"
   ]
  },
  {
   "cell_type": "markdown",
   "metadata": {
    "id": "P_3mqG3Tvf_I"
   },
   "source": [
    "Compare prediction to actual outcome and display results."
   ]
  },
  {
   "cell_type": "code",
   "execution_count": 62,
   "metadata": {
    "id": "AiojU5m3vgYc"
   },
   "outputs": [],
   "source": [
    "predicted = prediction_result.get(\"prediction\", \"UNKNOWN\")\n",
    "key_factors = prediction_result.get(\"key_factors\", [])"
   ]
  },
  {
   "cell_type": "code",
   "execution_count": 64,
   "metadata": {
    "id": "F0-hMtfsvi9q"
   },
   "outputs": [
    {
     "name": "stdout",
     "output_type": "stream",
     "text": [
      "\n",
      "==================================================\n",
      "PREDICTION RESULTS\n",
      "==================================================\n",
      "Patient ID: 2834225\n",
      "Predicted: EXPIRED\n",
      "Actual: SURVIVED\n",
      "Correct: ✗\n",
      "Key factors: high heartrate_max, lab abnormalities, elevated APACHE predictions\n",
      "==================================================\n"
     ]
    }
   ],
   "source": [
    "print(\"\\n\" + \"=\"*50)\n",
    "print(\"PREDICTION RESULTS\")\n",
    "print(\"=\"*50)\n",
    "print(f\"Patient ID: {TEST_PATIENT_ID}\")\n",
    "print(f\"Predicted: {predicted}\")\n",
    "print(f\"Actual: {actual_result}\")\n",
    "print(f\"Correct: {'✓' if predicted == actual_result else '✗'}\")\n",
    "print(f\"Key factors: {', '.join(key_factors)}\")\n",
    "print(\"=\"*50)"
   ]
  },
  {
   "cell_type": "markdown",
   "metadata": {},
   "source": [
    "# Appendix"
   ]
  },
  {
   "cell_type": "markdown",
   "metadata": {},
   "source": [
    "## Get all patients"
   ]
  },
  {
   "cell_type": "code",
   "execution_count": 68,
   "metadata": {},
   "outputs": [],
   "source": [
    "async def get_all_patient_ids_via_flow():\n",
    "    \"\"\"Get all patient IDs using MCP flow only\"\"\"\n",
    "    try:\n",
    "        # Create agent to get all data from server\n",
    "        get_all_agent = Agent(\n",
    "            agent_type=AgentTypes.MCP.value,\n",
    "            provider=\"mcp\",\n",
    "            mission=\"Get all patient data\",\n",
    "            model_params={\n",
    "                \"url\": MCP_URL,\n",
    "                \"tool\": \"get_head\",\n",
    "                \"arg_n\": 50  # Get enough rows to capture all patients\n",
    "            }\n",
    "        )\n",
    "        \n",
    "        # Create simple flow\n",
    "        get_all_task = Task(TextTaskInput(\"Get all patients\"), get_all_agent, log=False)\n",
    "        get_all_flow = Flow(\n",
    "            tasks={\"get_all\": get_all_task},\n",
    "            map_paths={\"get_all\": []},\n",
    "            log=False\n",
    "        )\n",
    "        \n",
    "        # Execute flow\n",
    "        result = await get_all_flow.start()\n",
    "        raw_data = result[\"get_all\"][\"output\"]\n",
    "        \n",
    "        # Parse JSON response and extract patient IDs\n",
    "        \n",
    "        data = json.loads(raw_data.strip())\n",
    "        df = pd.DataFrame(data)\n",
    "        \n",
    "        # Get unique patient IDs\n",
    "        patient_ids = df['patientunitstayid'].unique().tolist()\n",
    "        print(f\"Found {len(patient_ids)} patients via MCP flow\")\n",
    "        return patient_ids\n",
    "        \n",
    "    except Exception as e:\n",
    "        print(f\"Error getting patient IDs via flow: {e}\")\n",
    "        return [2834225, 1730330, 1591672, 1555349]"
   ]
  },
  {
   "cell_type": "code",
   "execution_count": 70,
   "metadata": {},
   "outputs": [
    {
     "name": "stdout",
     "output_type": "stream",
     "text": [
      "MCP Agent executing tool 'get_head' with arguments: {'n': 50}\n",
      "Executing MCP tool 'get_head' with arguments: {'n': 50}\n",
      "Filtered arguments for tool call: {'n': 50}\n",
      "Intelli MCPWrapper: Using full URL: http://localhost:8000/mcp for HTTP connection\n",
      "Intelli MCPWrapper: Connecting to HTTP MCP server at http://localhost:8000/mcp\n",
      "MCP tool execution result: meta=None content=[TextContent(type='text', text='[\\n  {\\n    \"patientunitstayid\":224053,\\n    \"age\":86,\\n    \"gender\":\"Female\",\\n    \"admissionheight\":157.5,\\n    \"admissionweight\":59.5,\\n    \"actualicumortality\":\"ALIVE\",\\n    \"actualiculos\":2.0486,\\n    \"lab_count\":69,\\n    \"has_wbc\":true,\\n    \"has_creatinine\":true,\\n    \"has_lactate\":false,\\n    \"has_bilirubin\":false,\\n    \"has_glucose\":true,\\n    \"heartrate_mean\":72.29,\\n    \"heartrate_max\":98.0,\\n    \"systemicsystolic_mean\":151.98,\\n    \"systemicsystolic_max\":203.0,\\n    \"temperature_mean\":null,\\n    \"temperature_max\":null,\\n    \"expired\":false\\n  },\\n  {\\n    \"patientunitstayid\":349887,\\n    \"age\":58,\\n    \"gender\":\"Male\",\\n    \"admissionheight\":165.0,\\n    \"admissionweight\":75.3,\\n    \"actualicumortality\":\"EXPIRED\",\\n    \"actualiculos\":8.2187,\\n    \"lab_count\":801,\\n    \"has_wbc\":true,\\n    \"has_creatinine\":true,\\n    \"has_lactate\":true,\\n    \"has_bilirubin\":true,\\n    \"has_glucose\":true,\\n    \"heartrate_mean\":83.51,\\n    \"heartrate_max\":106.0,\\n    \"systemicsystolic_mean\":110.2,\\n    \"systemicsystolic_max\":170.0,\\n    \"temperature_mean\":36.35,\\n    \"temperature_max\":37.78,\\n    \"expired\":true\\n  },\\n  {\\n    \"patientunitstayid\":552515,\\n    \"age\":76,\\n    \"gender\":\"Female\",\\n    \"admissionheight\":167.6,\\n    \"admissionweight\":127.0,\\n    \"actualicumortality\":\"ALIVE\",\\n    \"actualiculos\":1.4958,\\n    \"lab_count\":179,\\n    \"has_wbc\":true,\\n    \"has_creatinine\":true,\\n    \"has_lactate\":true,\\n    \"has_bilirubin\":true,\\n    \"has_glucose\":true,\\n    \"heartrate_mean\":86.25,\\n    \"heartrate_max\":109.0,\\n    \"systemicsystolic_mean\":null,\\n    \"systemicsystolic_max\":null,\\n    \"temperature_mean\":null,\\n    \"temperature_max\":null,\\n    \"expired\":false\\n  },\\n  {\\n    \"patientunitstayid\":702695,\\n    \"age\":26,\\n    \"gender\":\"Female\",\\n    \"admissionheight\":154.0,\\n    \"admissionweight\":73.0,\\n    \"actualicumortality\":\"ALIVE\",\\n    \"actualiculos\":0.8243,\\n    \"lab_count\":151,\\n    \"has_wbc\":true,\\n    \"has_creatinine\":true,\\n    \"has_lactate\":true,\\n    \"has_bilirubin\":true,\\n    \"has_glucose\":true,\\n    \"heartrate_mean\":93.31,\\n    \"heartrate_max\":112.0,\\n    \"systemicsystolic_mean\":null,\\n    \"systemicsystolic_max\":null,\\n    \"temperature_mean\":null,\\n    \"temperature_max\":null,\\n    \"expired\":false\\n  },\\n  {\\n    \"patientunitstayid\":935285,\\n    \"age\":80,\\n    \"gender\":\"Female\",\\n    \"admissionheight\":152.0,\\n    \"admissionweight\":70.0,\\n    \"actualicumortality\":\"EXPIRED\",\\n    \"actualiculos\":1.4916,\\n    \"lab_count\":253,\\n    \"has_wbc\":true,\\n    \"has_creatinine\":true,\\n    \"has_lactate\":true,\\n    \"has_bilirubin\":true,\\n    \"has_glucose\":true,\\n    \"heartrate_mean\":78.28,\\n    \"heartrate_max\":109.0,\\n    \"systemicsystolic_mean\":95.22,\\n    \"systemicsystolic_max\":152.0,\\n    \"temperature_mean\":null,\\n    \"temperature_max\":null,\\n    \"expired\":true\\n  },\\n  {\\n    \"patientunitstayid\":976513,\\n    \"age\":30,\\n    \"gender\":\"Male\",\\n    \"admissionheight\":177.8,\\n    \"admissionweight\":65.91,\\n    \"actualicumortality\":\"ALIVE\",\\n    \"actualiculos\":1.5263,\\n    \"lab_count\":133,\\n    \"has_wbc\":true,\\n    \"has_creatinine\":true,\\n    \"has_lactate\":true,\\n    \"has_bilirubin\":true,\\n    \"has_glucose\":true,\\n    \"heartrate_mean\":101.57,\\n    \"heartrate_max\":140.0,\\n    \"systemicsystolic_mean\":null,\\n    \"systemicsystolic_max\":null,\\n    \"temperature_mean\":null,\\n    \"temperature_max\":null,\\n    \"expired\":false\\n  },\\n  {\\n    \"patientunitstayid\":1555349,\\n    \"age\":62,\\n    \"gender\":\"Male\",\\n    \"admissionheight\":170.2,\\n    \"admissionweight\":55.61,\\n    \"actualicumortality\":\"EXPIRED\",\\n    \"actualiculos\":44.0902,\\n    \"lab_count\":3724,\\n    \"has_wbc\":true,\\n    \"has_creatinine\":true,\\n    \"has_lactate\":false,\\n    \"has_bilirubin\":true,\\n    \"has_glucose\":true,\\n    \"heartrate_mean\":72.65,\\n    \"heartrate_max\":132.0,\\n    \"systemicsystolic_mean\":148.64,\\n    \"systemicsystolic_max\":208.0,\\n    \"temperature_mean\":null,\\n    \"temperature_max\":null,\\n    \"expired\":true\\n  },\\n  {\\n    \"patientunitstayid\":1591672,\\n    \"age\":86,\\n    \"gender\":\"Female\",\\n    \"admissionheight\":170.1,\\n    \"admissionweight\":42.6,\\n    \"actualicumortality\":\"EXPIRED\",\\n    \"actualiculos\":1.1395,\\n    \"lab_count\":222,\\n    \"has_wbc\":true,\\n    \"has_creatinine\":true,\\n    \"has_lactate\":true,\\n    \"has_bilirubin\":true,\\n    \"has_glucose\":true,\\n    \"heartrate_mean\":99.32,\\n    \"heartrate_max\":120.0,\\n    \"systemicsystolic_mean\":104.02,\\n    \"systemicsystolic_max\":125.0,\\n    \"temperature_mean\":null,\\n    \"temperature_max\":null,\\n    \"expired\":true\\n  },\\n  {\\n    \"patientunitstayid\":1730330,\\n    \"age\":43,\\n    \"gender\":\"Female\",\\n    \"admissionheight\":139.7,\\n    \"admissionweight\":43.9,\\n    \"actualicumortality\":\"EXPIRED\",\\n    \"actualiculos\":0.5625,\\n    \"lab_count\":357,\\n    \"has_wbc\":true,\\n    \"has_creatinine\":true,\\n    \"has_lactate\":true,\\n    \"has_bilirubin\":true,\\n    \"has_glucose\":true,\\n    \"heartrate_mean\":112.79,\\n    \"heartrate_max\":137.0,\\n    \"systemicsystolic_mean\":null,\\n    \"systemicsystolic_max\":null,\\n    \"temperature_mean\":null,\\n    \"temperature_max\":null,\\n    \"expired\":true\\n  },\\n  {\\n    \"patientunitstayid\":2834225,\\n    \"age\":57,\\n    \"gender\":\"Female\",\\n    \"admissionheight\":165.0,\\n    \"admissionweight\":95.0,\\n    \"actualicumortality\":\"ALIVE\",\\n    \"actualiculos\":9.727,\\n    \"lab_count\":566,\\n    \"has_wbc\":true,\\n    \"has_creatinine\":true,\\n    \"has_lactate\":true,\\n    \"has_bilirubin\":true,\\n    \"has_glucose\":true,\\n    \"heartrate_mean\":90.7,\\n    \"heartrate_max\":142.0,\\n    \"systemicsystolic_mean\":null,\\n    \"systemicsystolic_max\":null,\\n    \"temperature_mean\":null,\\n    \"temperature_max\":null,\\n    \"expired\":false\\n  }\\n]', annotations=None)] isError=False\n",
      "Found 10 patients via MCP flow\n"
     ]
    },
    {
     "data": {
      "text/plain": [
       "[224053,\n",
       " 349887,\n",
       " 552515,\n",
       " 702695,\n",
       " 935285,\n",
       " 976513,\n",
       " 1555349,\n",
       " 1591672,\n",
       " 1730330,\n",
       " 2834225]"
      ]
     },
     "execution_count": 70,
     "metadata": {},
     "output_type": "execute_result"
    }
   ],
   "source": [
    "PATIENT_IDS = await get_all_patient_ids_via_flow()\n",
    "PATIENT_IDS"
   ]
  },
  {
   "cell_type": "code",
   "execution_count": null,
   "metadata": {},
   "outputs": [],
   "source": []
  }
 ],
 "metadata": {
  "colab": {
   "provenance": []
  },
  "kernelspec": {
   "display_name": "Python 3 (ipykernel)",
   "language": "python",
   "name": "python3"
  },
  "language_info": {
   "codemirror_mode": {
    "name": "ipython",
    "version": 3
   },
   "file_extension": ".py",
   "mimetype": "text/x-python",
   "name": "python",
   "nbconvert_exporter": "python",
   "pygments_lexer": "ipython3",
   "version": "3.12.4"
  }
 },
 "nbformat": 4,
 "nbformat_minor": 4
}
