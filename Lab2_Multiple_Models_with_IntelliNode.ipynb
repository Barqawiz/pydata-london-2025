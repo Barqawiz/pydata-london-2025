{
 "cells": [
  {
   "cell_type": "markdown",
   "metadata": {
    "id": "bGTSKnjXfks0"
   },
   "source": [
    "# Multi-Model Marketing Blog for PyData\n",
    "\n",
    "This notebook demonstrates how to build a multi-agent clinical system using IntelliNode, where:\n",
    "\n",
    "- Agent 1: Writes engaging marketing **blog post**.\n",
    "- Agent 2: Generates **image description** for AI image model.\n",
    "- Agent 3: Creates header **image** for the blog.\n",
    "- Agent 4: Generates **voice-over** audio of the blog.\n"
   ]
  },
  {
   "cell_type": "markdown",
   "metadata": {
    "id": "WsutUYVLgbfR"
   },
   "source": [
    "**Objectives**\n",
    "\n",
    "In this tutorial, you will learn how to:\n",
    "\n",
    "- Connect multiple model types (text, image, speech) in a single workflow.\n",
    "- Implement parallel task execution for efficient content creation."
   ]
  },
  {
   "cell_type": "markdown",
   "metadata": {
    "id": "_LuK2QnXgl4Y"
   },
   "source": [
    "## Setup and Imports"
   ]
  },
  {
   "cell_type": "code",
   "execution_count": 49,
   "metadata": {},
   "outputs": [
    {
     "name": "stdout",
     "output_type": "stream",
     "text": [
      "Requirement already satisfied: intelli in /opt/anaconda3/lib/python3.12/site-packages (1.0.13)\n",
      "Collecting intelli\n",
      "  Using cached intelli-1.1.6-py3-none-any.whl.metadata (8.0 kB)\n",
      "Requirement already satisfied: python-dotenv>=1.0.0 in /opt/anaconda3/lib/python3.12/site-packages (from intelli) (1.0.1)\n",
      "Requirement already satisfied: networkx>=3.2.0 in /opt/anaconda3/lib/python3.12/site-packages (from intelli) (3.2.1)\n",
      "Using cached intelli-1.1.6-py3-none-any.whl (193 kB)\n",
      "Installing collected packages: intelli\n",
      "  Attempting uninstall: intelli\n",
      "    Found existing installation: intelli 1.0.13\n",
      "    Uninstalling intelli-1.0.13:\n",
      "      Successfully uninstalled intelli-1.0.13\n",
      "Successfully installed intelli-1.1.6\n"
     ]
    }
   ],
   "source": [
    "!pip install -U intelli"
   ]
  },
  {
   "cell_type": "code",
   "execution_count": 3,
   "metadata": {
    "colab": {
     "base_uri": "https://localhost:8080/"
    },
    "id": "RJb1kBuSfd-r",
    "outputId": "9b190b58-1da4-4463-ecd4-70b067864baa"
   },
   "outputs": [
    {
     "name": "stdout",
     "output_type": "stream",
     "text": [
      "Requirement already satisfied: intelli in /opt/anaconda3/lib/python3.12/site-packages (1.0.13)\n",
      "Requirement already satisfied: python-dotenv in /opt/anaconda3/lib/python3.12/site-packages (1.0.1)\n",
      "Requirement already satisfied: networkx>=3.2.0 in /opt/anaconda3/lib/python3.12/site-packages (from intelli) (3.2.1)\n"
     ]
    }
   ],
   "source": [
    "!pip install intelli python-dotenv"
   ]
  },
  {
   "cell_type": "code",
   "execution_count": 4,
   "metadata": {
    "id": "dFD6zBkLgntj"
   },
   "outputs": [],
   "source": [
    "import os\n",
    "import asyncio\n",
    "from dotenv import load_dotenv\n",
    "from intelli.flow import Agent, Task, Flow, TextTaskInput, AgentTypes\n",
    "import json"
   ]
  },
  {
   "cell_type": "code",
   "execution_count": 5,
   "metadata": {
    "id": "lONF7VE-gpjS"
   },
   "outputs": [],
   "source": [
    "load_dotenv()\n",
    "\n",
    "# Get API keys\n",
    "ANTHROPIC_KEY = os.getenv(\"ANTHROPIC_API_KEY\")\n",
    "OPENAI_KEY = os.getenv(\"OPENAI_API_KEY\")\n",
    "GEMINI_KEY = os.getenv(\"GEMINI_API_KEY\")"
   ]
  },
  {
   "cell_type": "code",
   "execution_count": 6,
   "metadata": {
    "colab": {
     "base_uri": "https://localhost:8080/"
    },
    "id": "V5uwJiJAgrnh",
    "outputId": "8dcce8a3-f853-48f8-8e57-e8737af6e301"
   },
   "outputs": [
    {
     "name": "stdout",
     "output_type": "stream",
     "text": [
      "Anthropic Key: Available\n",
      "Openai Key: Available\n",
      "Gemini Key: Available\n"
     ]
    }
   ],
   "source": [
    "print(f\"Anthropic Key: {'Available' if ANTHROPIC_KEY else 'Error to load the key'}\")\n",
    "print(f\"Openai Key: {'Available' if OPENAI_KEY else 'Error to load the key'}\")\n",
    "print(f\"Gemini Key: {'Available' if GEMINI_KEY else 'Error to load the key'}\")"
   ]
  },
  {
   "cell_type": "code",
   "execution_count": 7,
   "metadata": {
    "id": "ETn-NS9JPQqk"
   },
   "outputs": [],
   "source": [
    "OUTPUT_DIR = \"./output\""
   ]
  },
  {
   "cell_type": "markdown",
   "metadata": {
    "id": "Rr7gouX9g4aa"
   },
   "source": [
    "## Blog Topic\n",
    "\n",
    "Define a marketing blog topic about PyData conference."
   ]
  },
  {
   "cell_type": "code",
   "execution_count": 14,
   "metadata": {
    "id": "_-9ZBTidgtw9"
   },
   "outputs": [],
   "source": [
    "blog_topic = \"\"\"\n",
    "Topic: Why PyData London 2025 is the Must-Attend Event for Data Scientists.\n",
    "Target Audience: Data scientists, ML engineers, Python developers.\n",
    "Include: Networking opportunities, learning benefits.\n",
    "\"\"\""
   ]
  },
  {
   "cell_type": "markdown",
   "metadata": {
    "id": "FV1vg2lXhFNv"
   },
   "source": [
    "## Create Agents\n",
    "Set up four specialized agents for content, image description, visuals, and audio."
   ]
  },
  {
   "cell_type": "code",
   "execution_count": 17,
   "metadata": {
    "id": "SJvYC_zJhA-2"
   },
   "outputs": [],
   "source": [
    "# Agent 1: Blog Writer (Anthropic Claude)\n",
    "blog_writer = Agent(\n",
    "    agent_type=AgentTypes.TEXT.value,\n",
    "    provider=\"anthropic\",\n",
    "    mission=\"Write engaging marketing blog posts for tech conferences\",\n",
    "    model_params={\n",
    "        \"key\": ANTHROPIC_KEY,\n",
    "        \"model\": \"claude-sonnet-4-20250514\",\n",
    "        \"max_tokens\": 2000\n",
    "    }\n",
    ")"
   ]
  },
  {
   "cell_type": "code",
   "execution_count": 19,
   "metadata": {
    "id": "fT-jlXUew4_Y"
   },
   "outputs": [],
   "source": [
    "# Agent 2: Image Description Generator (OpenAI)\n",
    "image_description_gen = Agent(\n",
    "    agent_type=AgentTypes.TEXT.value,\n",
    "    provider=\"openai\",\n",
    "    mission=\"Generate concise and descriptive image prompts for AI image generation models\",\n",
    "    model_params={\n",
    "        \"key\": OPENAI_KEY,\n",
    "        \"model\": \"gpt-4o\",\n",
    "        \"max_tokens\": 200\n",
    "    }\n",
    ")"
   ]
  },
  {
   "cell_type": "code",
   "execution_count": 21,
   "metadata": {
    "id": "mPgP0aKIEmjX"
   },
   "outputs": [],
   "source": [
    "# Agent 3: Image Generator\n",
    "image_creator = Agent(\n",
    "    agent_type=AgentTypes.IMAGE.value,\n",
    "    provider=\"openai\",\n",
    "    mission=\"Generate a professional header image\",\n",
    "    model_params={\n",
    "        \"key\": OPENAI_KEY,\n",
    "        \"model\": \"dall-e-3\", # \"gpt-image-1\"\n",
    "        \"imageSize\": \"1024x1024\",\n",
    "        \"quality\": \"standard\"\n",
    "    }\n",
    ")"
   ]
  },
  {
   "cell_type": "code",
   "execution_count": 23,
   "metadata": {
    "id": "hvJMVQt8xEFa"
   },
   "outputs": [],
   "source": [
    "# Agent 4: Voice Synthesizer (OpenAI)\n",
    "voice_synthesizer = Agent(\n",
    "    agent_type=AgentTypes.SPEECH.value,\n",
    "    provider=\"openai\",\n",
    "    mission=\"Generate professional voice-over for blog content\",\n",
    "    model_params={\n",
    "        \"key\": OPENAI_KEY,\n",
    "        \"model\": \"tts-1\",\n",
    "        \"voice\": \"alloy\"\n",
    "    }\n",
    ")"
   ]
  },
  {
   "cell_type": "code",
   "execution_count": 27,
   "metadata": {
    "colab": {
     "base_uri": "https://localhost:8080/"
    },
    "id": "rP_m0jGSE021",
    "outputId": "8c617744-f4eb-4f53-a86b-ef34c77cb2dd"
   },
   "outputs": [
    {
     "name": "stdout",
     "output_type": "stream",
     "text": [
      "✓ All four agents created successfully\n"
     ]
    }
   ],
   "source": [
    "print(\"✓ All four agents created successfully\")"
   ]
  },
  {
   "cell_type": "markdown",
   "metadata": {
    "id": "t5nMq5syE5Bx"
   },
   "source": [
    "## Create Tasks\n",
    "\n",
    "Define tasks for each agent with appropriate prompts."
   ]
  },
  {
   "cell_type": "code",
   "execution_count": 30,
   "metadata": {
    "id": "_o5JHuNNE233"
   },
   "outputs": [],
   "source": [
    "# Task 1: Write the blog post\n",
    "write_task = Task(\n",
    "    TextTaskInput(f\"\"\"\n",
    "    Write an engaging marketing blog post on:\n",
    "\n",
    "    {blog_topic}\n",
    "\n",
    "  Structure the blog with:\n",
    "    - Compelling introduction that hooks the reader.\n",
    "    - 3-4 main sections with clear subheadings.\n",
    "    - Supporting evidence, examples, or data points.\n",
    "    - Strong conclusion with a call to action.\n",
    "\n",
    "    Target: 300 words\n",
    "    Tone: Professional yet conversational\n",
    "    Make it informative, engaging, and actionable.\n",
    "    \"\"\"),\n",
    "    blog_writer,\n",
    "    log=True\n",
    ")"
   ]
  },
  {
   "cell_type": "code",
   "execution_count": 32,
   "metadata": {
    "id": "0qVo_AuexMZ8"
   },
   "outputs": [],
   "source": [
    "# Task 2: Generate image description\n",
    "image_description_task = Task(\n",
    "    TextTaskInput(\"\"\"\n",
    "    Generate a short image description for an AI image model from the provided blog text topic.\n",
    "\n",
    "    Create a concise, visual description (2-3 sentences) that captures:\n",
    "    - The main theme and atmosphere of the blog content\n",
    "    - No text in the image.\n",
    "    \"\"\"),\n",
    "    image_description_gen,\n",
    "    log=True\n",
    ")"
   ]
  },
  {
   "cell_type": "code",
   "execution_count": 36,
   "metadata": {
    "id": "a9VLchf_E21A"
   },
   "outputs": [],
   "source": [
    "# Task 3: Generate blog header image using the description\n",
    "image_task = Task(\n",
    "    TextTaskInput(\"Generate an image based on the description\"),\n",
    "    image_creator,\n",
    "    log=True\n",
    ")"
   ]
  },
  {
   "cell_type": "code",
   "execution_count": 38,
   "metadata": {
    "id": "QJz_PHICE2yI"
   },
   "outputs": [],
   "source": [
    "# Task 4: Generate voice-over audio\n",
    "audio_task = Task(\n",
    "    TextTaskInput(\"\"),\n",
    "    voice_synthesizer,\n",
    "    log=True\n",
    ")"
   ]
  },
  {
   "cell_type": "code",
   "execution_count": 40,
   "metadata": {
    "colab": {
     "base_uri": "https://localhost:8080/"
    },
    "id": "vcciBhFhE2vK",
    "outputId": "2775f861-53a1-43c5-bd38-6e2fa076b281"
   },
   "outputs": [
    {
     "name": "stdout",
     "output_type": "stream",
     "text": [
      "✓ All tasks defined\n"
     ]
    }
   ],
   "source": [
    "print(\"✓ All tasks defined\")"
   ]
  },
  {
   "cell_type": "markdown",
   "metadata": {
    "id": "jQdLptvQHvC4"
   },
   "source": [
    "## Create Flow\n",
    "Connect agents with the blog content flowing to the voice synthesizer."
   ]
  },
  {
   "cell_type": "code",
   "execution_count": 53,
   "metadata": {
    "id": "lU5nWx_3HxDW"
   },
   "outputs": [],
   "source": [
    "flow = Flow(\n",
    "    tasks={\n",
    "        \"write_blog\": write_task,\n",
    "        \"generate_image_description\": image_description_task,\n",
    "        \"create_image\": image_task,\n",
    "        \"generate_audio\": audio_task\n",
    "    },\n",
    "    map_paths={\n",
    "        \"write_blog\": [\"generate_image_description\", \"generate_audio\"],\n",
    "        \"generate_image_description\": [\"create_image\"],\n",
    "    },\n",
    "    log=True,\n",
    "    # --- optional - save output parameters --- #\n",
    "    #auto_save_outputs=True,\n",
    "    #output_dir=OUTPUT_DIR,\n",
    ")"
   ]
  },
  {
   "cell_type": "markdown",
   "metadata": {
    "id": "tJ3ns6ShIDGL"
   },
   "source": [
    "### Generate Flow Visualization"
   ]
  },
  {
   "cell_type": "code",
   "execution_count": 56,
   "metadata": {
    "colab": {
     "base_uri": "https://localhost:8080/",
     "height": 35
    },
    "id": "em9EK7EGICYH",
    "outputId": "dfc33062-96a8-49e9-9110-6005fcd50942"
   },
   "outputs": [
    {
     "data": {
      "text/plain": [
       "'./output/multi_model_flow.png'"
      ]
     },
     "execution_count": 56,
     "metadata": {},
     "output_type": "execute_result"
    }
   ],
   "source": [
    "flow.generate_graph_img(\n",
    "    name=\"multi_model_flow\",\n",
    "    save_path=OUTPUT_DIR\n",
    ")"
   ]
  },
  {
   "cell_type": "markdown",
   "metadata": {
    "id": "1Fp4aF84IMPV"
   },
   "source": [
    "### Run the Flow\n",
    "\n",
    "Execute all agents and display the multimodal results."
   ]
  },
  {
   "cell_type": "code",
   "execution_count": 58,
   "metadata": {
    "id": "sOWm9M0syK4K"
   },
   "outputs": [],
   "source": [
    "async def run_flow():\n",
    "    \"\"\"Execute the flow asynchronously\"\"\"\n",
    "    results = await flow.start(max_workers=3)\n",
    "    return results"
   ]
  },
  {
   "cell_type": "code",
   "execution_count": 60,
   "metadata": {
    "colab": {
     "base_uri": "https://localhost:8080/"
    },
    "id": "hyH6pqfQkalP",
    "outputId": "fbcca9c0-848b-4e8a-d51f-3ef0e0cb11f4"
   },
   "outputs": [
    {
     "name": "stdout",
     "output_type": "stream",
     "text": [
      "---- Execute task write_blog (text/anthropic) ----\n",
      "- The task output head: : # Why PyData London 2025 is the Must-Attend Event for Data Scientists\n",
      "\n",
      "Picture this: You're stuck on a complex ML pipeline that's been haunting your dreams for weeks. Now imagine being in a room with \n",
      "Task write_blog executed successfully\n",
      "Task write_blog output type: text\n",
      "---- Execute task generate_image_description (text/openai) ----\n",
      "Task text expects input type: text\n",
      "Found matching input type with 1 outputs\n",
      "---- Execute task generate_audio (speech/openai) ----\n",
      "Task speech expects input type: text\n",
      "Found matching input type with 1 outputs\n",
      "- Inside the task with input data head: : # Why PyData London 2025 is the Must-Attend Event for Data Scientists\n",
      "\n",
      "Picture this: You're stuck on a complex ML pipeline that's been haunting your dreams for weeks. Now imagine being in a room with \n",
      "- Input data with template: : PREVIOUS_ANALYSIS: {0}\n",
      "CURRENT_TASK: \n",
      "    Generate a short image description for an AI image model from the provided blog text topic.\n",
      "\n",
      "    Create a concise, visual description (2-3 sentences) that cap\n",
      "- Inside the task with input data head: : # Why PyData London 2025 is the Must-Attend Event for Data Scientists\n",
      "\n",
      "Picture this: You're stuck on a complex ML pipeline that's been haunting your dreams for weeks. Now imagine being in a room with \n",
      "- Input data with template: : PREVIOUS_ANALYSIS: {0}\n",
      "CURRENT_TASK:\n",
      "\n",
      "\n",
      "# W\n",
      "hy PyData London 2025 is the Must-Attend Event for Data Scientists\n",
      "\n",
      "Picture this: You're stuck on a complex ML pipeline that's been haunting your dreams for \n",
      "- Speech output type: <class 'generator'>, size: unknown\n",
      "- Final speech result type: <class 'generator'>\n",
      "- The task output count: : non-iterable\n",
      "Task generate_audio executed successfully\n",
      "Task generate_audio output type: audio\n",
      "- The task output head: : An image of a dynamic conference setting in a modern auditorium, bustling with hundreds of focused attendees and renowned speakers from tech giants like Netflix and Meta. The atmosphere is charged wit\n",
      "Task generate_image_description executed successfully\n",
      "Task generate_image_description output type: text\n",
      "---- Execute task create_image (image/openai) ----\n",
      "Task image expects input type: text\n",
      "Found matching input type with 1 outputs\n",
      "- Inside the task with input data head: : An image of a dynamic conference setting in a modern auditorium, bustling with hundreds of focused attendees and renowned speakers from tech giants like Netflix and Meta. The atmosphere is charged wit\n",
      "- Input data with template: : PREVIOUS_ANALYSIS: {0}\n",
      "CURRENT_TASK: Generate an image based on the description\n",
      "\n",
      "An image of a dynamic conference setting in a modern auditorium, bustling with hundreds of focused attendees and renown\n",
      "- The task output count: : 474\n",
      "Task create_image executed successfully\n",
      "Task create_image output type: image\n",
      "Flow completed successfully\n"
     ]
    }
   ],
   "source": [
    "# Execute the run\n",
    "results = await run_flow()"
   ]
  },
  {
   "cell_type": "code",
   "execution_count": null,
   "metadata": {
    "id": "yn8UolLIxuLw"
   },
   "outputs": [],
   "source": []
  }
 ],
 "metadata": {
  "colab": {
   "provenance": []
  },
  "kernelspec": {
   "display_name": "Python 3 (ipykernel)",
   "language": "python",
   "name": "python3"
  },
  "language_info": {
   "codemirror_mode": {
    "name": "ipython",
    "version": 3
   },
   "file_extension": ".py",
   "mimetype": "text/x-python",
   "name": "python",
   "nbconvert_exporter": "python",
   "pygments_lexer": "ipython3",
   "version": "3.12.4"
  }
 },
 "nbformat": 4,
 "nbformat_minor": 4
}
