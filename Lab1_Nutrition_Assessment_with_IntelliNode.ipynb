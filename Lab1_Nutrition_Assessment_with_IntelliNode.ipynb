{
 "cells": [
  {
   "cell_type": "markdown",
   "metadata": {
    "id": "XyzstnNMJb0d"
   },
   "source": [
    "# Multi-Agent System - Nutrition Assessment System\n",
    "This notebook demonstrates how to build a multi-agent clinical system using IntelliNode, where:\n",
    "\n",
    "- **Agent 1**: Analyzes client notes to identify nutrition needs and health priorities.\n",
    "- **Agent 2**: Creates personalized meal plan based on the assessment."
   ]
  },
  {
   "cell_type": "markdown",
   "metadata": {
    "id": "o0Xoiwssdhdu"
   },
   "source": [
    "**Objectives**\n",
    "\n",
    "In this tutorial, you will learn how to:\n",
    "- Connect multiple AI providers in a single workflow by integrating OpenAI's GPT-4 and Anthropic's Claude\n",
    "- Build a graph-based multi-agent system where agents pass data through defined dependencies\n",
    "- Implement a practical healthcare workflow.\n"
   ]
  },
  {
   "cell_type": "markdown",
   "metadata": {
    "id": "hs0KMIRMJrjb"
   },
   "source": [
    "## Setup and Imports"
   ]
  },
  {
   "cell_type": "code",
   "execution_count": 47,
   "metadata": {
    "colab": {
     "base_uri": "https://localhost:8080/"
    },
    "id": "RwbELsuXII9b",
    "outputId": "489f2cf0-7e5f-4667-facb-c7ed07b822b5"
   },
   "outputs": [
    {
     "name": "stdout",
     "output_type": "stream",
     "text": [
      "Requirement already satisfied: intelli in /opt/anaconda3/lib/python3.12/site-packages (1.0.13)\n",
      "Requirement already satisfied: python-dotenv in /opt/anaconda3/lib/python3.12/site-packages (1.0.1)\n",
      "Requirement already satisfied: networkx>=3.2.0 in /opt/anaconda3/lib/python3.12/site-packages (from intelli) (3.2.1)\n"
     ]
    }
   ],
   "source": [
    "!pip install intelli python-dotenv"
   ]
  },
  {
   "cell_type": "code",
   "execution_count": 49,
   "metadata": {
    "id": "0xXHQkRFJx1v"
   },
   "outputs": [],
   "source": [
    "import os\n",
    "import asyncio\n",
    "from dotenv import load_dotenv\n",
    "from intelli.flow import Agent, Task, Flow, TextTaskInput, AgentTypes\n",
    "import json"
   ]
  },
  {
   "cell_type": "code",
   "execution_count": 51,
   "metadata": {
    "id": "qj1HmuivJ2Wt"
   },
   "outputs": [],
   "source": [
    "# Load environment variables\n",
    "load_dotenv()\n",
    "\n",
    "# Get API keys\n",
    "OPENAI_KEY = os.getenv(\"OPENAI_API_KEY\")\n",
    "ANTHROPIC_KEY = os.getenv(\"ANTHROPIC_API_KEY\")"
   ]
  },
  {
   "cell_type": "code",
   "execution_count": 53,
   "metadata": {
    "colab": {
     "base_uri": "https://localhost:8080/"
    },
    "id": "1FP-_NYrJ1jD",
    "outputId": "4ecdbb6d-5c1e-45d1-ddd1-5df6a7ae4b6d"
   },
   "outputs": [
    {
     "name": "stdout",
     "output_type": "stream",
     "text": [
      "OpenAI Key: Available\n",
      "Anthropic Key: Available\n"
     ]
    }
   ],
   "source": [
    "print(f\"OpenAI Key: {'Available' if OPENAI_KEY else 'Error to load the key'}\")\n",
    "print(f\"Anthropic Key: {'Available' if ANTHROPIC_KEY else 'Error to load the key'}\")"
   ]
  },
  {
   "cell_type": "markdown",
   "metadata": {
    "id": "0gZdgucuLn_D"
   },
   "source": [
    "## Client Case Notes\n",
    "A brief profile of the user seeking nutrition guidance."
   ]
  },
  {
   "cell_type": "code",
   "execution_count": 56,
   "metadata": {
    "id": "6Yh-WqSvLCJb"
   },
   "outputs": [],
   "source": [
    "case_notes = \"\"\"\n",
    "Client: Sarah Chen, 42-year-old female\n",
    "Weight: 180 lbs, Height: 5'4\n",
    "Health: Pre-diabetic, high blood pressure (controlled with medication)\n",
    "Current diet: Skips breakfast, buys lunch, eats late dinners\n",
    "Activity: Walks occasionally, sits most of the day, sleeps poorly\n",
    "Allergies: Lactose intolerant, allergic to shellfish\n",
    "Goals: Lose 20 pounds, prevent diabetes, have more energy\n",
    "Preferences: Loves Asian and Mediterranean food, dislikes fish, needs quick meals\n",
    "Budget: Moderate, prefers affordable ingredients\n",
    "\"\"\""
   ]
  },
  {
   "cell_type": "markdown",
   "metadata": {
    "id": "uq21TXGTP-RT"
   },
   "source": [
    "## Create Agents\n",
    "Set up two specialized agents - one for assessment and one for planning."
   ]
  },
  {
   "cell_type": "code",
   "execution_count": 58,
   "metadata": {
    "id": "Un1rHabtP-EL"
   },
   "outputs": [],
   "source": [
    "# Agent 1: Nutrition Assessor (OpenAI)\n",
    "nutrition_assessor = Agent(\n",
    "    agent_type=AgentTypes.TEXT.value,\n",
    "    provider=\"openai\",\n",
    "    mission=\"Extract nutrition-relevant information from client notes\",\n",
    "    model_params={\"key\": OPENAI_KEY, \"model\": \"gpt-4.1\"}\n",
    ")\n",
    "\n",
    "# Agent 2: Meal Planner (Anthropic)\n",
    "meal_planner = Agent(\n",
    "    agent_type=AgentTypes.TEXT.value,\n",
    "    provider=\"anthropic\",\n",
    "    mission=\"Create personalized meal plans\",\n",
    "    model_params={\"key\": ANTHROPIC_KEY, \"model\": \"claude-sonnet-4-20250514\"}\n",
    ")"
   ]
  },
  {
   "cell_type": "markdown",
   "metadata": {
    "id": "3LGwj2RvQd5S"
   },
   "source": [
    "## Create Tasks\n",
    "Define what each agent should do."
   ]
  },
  {
   "cell_type": "code",
   "execution_count": 61,
   "metadata": {
    "id": "xN_zaYtZQFND"
   },
   "outputs": [],
   "source": [
    "# Task 1: Assess nutrition needs\n",
    "assessment_task = Task(\n",
    "    TextTaskInput(f\"\"\"\n",
    "    Review this client case and extract:\n",
    "    - Health conditions to consider\n",
    "    - Current eating problems\n",
    "    - Allergies and restrictions\n",
    "    - Personal goals\n",
    "    - Food preferences\n",
    "    - Main nutrition priorities\n",
    "\n",
    "    Case details:\n",
    "    {case_notes}\n",
    "    \"\"\"),\n",
    "    nutrition_assessor,\n",
    "    log=True\n",
    ")"
   ]
  },
  {
   "cell_type": "code",
   "execution_count": 65,
   "metadata": {
    "id": "A1OePjPEQrcD"
   },
   "outputs": [],
   "source": [
    "# Task 2: Create meal plan\n",
    "planning_task = Task(\n",
    "    TextTaskInput(\n",
    "        \"Create a simple 3-day meal plan for weight loss and diabetes prevention. \"\n",
    "        \"Include easy breakfast, lunch, dinner, and one snack per day.\"\n",
    "    ),\n",
    "    meal_planner,\n",
    "    log=True\n",
    ")"
   ]
  },
  {
   "cell_type": "markdown",
   "metadata": {
    "id": "t0jLFTEwQyKS"
   },
   "source": [
    "## Create Flow\n",
    "Connect the agents so the assessment flows into the meal planning."
   ]
  },
  {
   "cell_type": "code",
   "execution_count": 70,
   "metadata": {
    "id": "9ziDj3kEQwJt"
   },
   "outputs": [],
   "source": [
    "flow = Flow(\n",
    "    tasks={\n",
    "        \"assessment_task\": assessment_task,\n",
    "        \"planning_task\": planning_task\n",
    "    },\n",
    "    map_paths={\n",
    "        \"assessment_task\": [\"planning_task\"],\n",
    "        \"planning_task\": []\n",
    "    },\n",
    "    log=True\n",
    ")"
   ]
  },
  {
   "cell_type": "code",
   "execution_count": 72,
   "metadata": {
    "colab": {
     "base_uri": "https://localhost:8080/",
     "height": 35
    },
    "id": "YQ3qBfmQQ7nJ",
    "outputId": "63025e12-35c2-48a1-edca-265cb41052ac"
   },
   "outputs": [
    {
     "data": {
      "text/plain": [
       "'./output/nutrition_flow.png'"
      ]
     },
     "execution_count": 72,
     "metadata": {},
     "output_type": "execute_result"
    }
   ],
   "source": [
    "# generate flow graph\n",
    "flow.generate_graph_img(\n",
    "    name=\"nutrition_flow\",\n",
    "    save_path=\"./output/\"\n",
    ")"
   ]
  },
  {
   "cell_type": "markdown",
   "metadata": {
    "id": "vdIu3NZQRkSC"
   },
   "source": [
    "## Run the Flow"
   ]
  },
  {
   "cell_type": "code",
   "execution_count": 74,
   "metadata": {
    "id": "LXwXmQXTQ_sq"
   },
   "outputs": [],
   "source": [
    "async def run_nutrition_workflow():\n",
    "    results = await flow.start()\n",
    "\n",
    "    return results"
   ]
  },
  {
   "cell_type": "code",
   "execution_count": 76,
   "metadata": {
    "colab": {
     "base_uri": "https://localhost:8080/"
    },
    "id": "O30n-1GsRrbD",
    "outputId": "04562553-809d-4c6a-fc60-51e38e2e9058"
   },
   "outputs": [
    {
     "name": "stdout",
     "output_type": "stream",
     "text": [
      "---- Execute task assessment_task (text/openai) ----\n",
      "- The task output head: : **Health conditions to consider**\n",
      "- Pre-diabetes\n",
      "- Hypertension (high blood pressure, controlled with medication)\n",
      "\n",
      "**Current eating problems**\n",
      "- Skips breakfast regularly\n",
      "- Relies on store-bought or t\n",
      "Task assessment_task executed successfully\n",
      "Task assessment_task output type: text\n",
      "---- Execute task planning_task (text/anthropic) ----\n",
      "Task text expects input type: text\n",
      "Found matching input type with 1 outputs\n",
      "- Inside the task with input data head: : **Health conditions to consider**\n",
      "- Pre-diabetes\n",
      "- Hypertension (high blood pressure, controlled with medication)\n",
      "\n",
      "**Current eating problems**\n",
      "- Skips breakfast regularly\n",
      "- Relies on store-bought or t\n",
      "- Input data with template: : PREVIOUS_ANALYSIS: {0}\n",
      "CURRENT_TASK: Create a simple 3-day meal plan for weight loss and diabetes prevention. Include easy breakfast, lunch, dinner, and one snack per day.\n",
      "\n",
      "**Health conditions to cons\n",
      "- The task output head: : # 3-Day Meal Plan for Weight Loss & Diabetes Prevention\n",
      "\n",
      "*Designed for pre-diabetes, hypertension management, lactose-free, shellfish-free*\n",
      "\n",
      "## **DAY 1**\n",
      "\n",
      "### 🌅 **BREAKFAST** (7-8 AM)\n",
      "**Mediterranean \n",
      "Task planning_task executed successfully\n",
      "Task planning_task output type: text\n",
      "Flow completed successfully\n"
     ]
    }
   ],
   "source": [
    "results = await run_nutrition_workflow()"
   ]
  },
  {
   "cell_type": "code",
   "execution_count": 77,
   "metadata": {
    "colab": {
     "base_uri": "https://localhost:8080/"
    },
    "id": "hZTpS18KRsx-",
    "outputId": "b5f6cc40-8916-4ff4-af69-2c55f5c8cbc7"
   },
   "outputs": [
    {
     "name": "stdout",
     "output_type": "stream",
     "text": [
      "=== NUTRITION ASSESSMENT (OpenAI) ===\n",
      "**Health conditions to consider**\n",
      "- Pre-diabetes\n",
      "- Hypertension (high blood pressure, controlled with medication)\n",
      "\n",
      "**Current eating problems**\n",
      "- Skips breakfast regularly\n",
      "- Relies on store-bought or takeout lunches (unknown nutritional quality)\n",
      "- Eats late dinners\n",
      "- Poor sleep quality\n",
      "- Minimal physical activity\n",
      "\n",
      "**Allergies and restrictions**\n",
      "- Lactose intolerant\n",
      "- Shellfish allergy\n",
      "\n",
      "**Personal goals**\n",
      "- Lose 20 pounds\n",
      "- Prevent progression to diabetes\n",
      "- Increase energy levels\n",
      "\n",
      "**Food preferences**\n",
      "- Enjoys Asian and Mediterranean cuisines\n",
      "- Dislikes fish\n",
      "- Needs quick, easy meal options\n",
      "- Prefers affordable ingredients\n",
      "\n",
      "**Main nutrition priorities**\n",
      "- Support stable blood sugar (low-glycemic, high-fiber foods)\n",
      "- Focus on heart-healthy eating (DASH or Mediterranean-influenced, low sodium, minimal processed foods)\n",
      "- Manage weight through calorie balance and portion control\n",
      "- Ensure lactose-free and shellfish-free meal planning\n",
      "- Increase meal regularity (especially not skipping breakfast)\n",
      "- Encourage incorporation of preferred cuisines in a healthy, affordable way\n",
      "- Encourage more whole foods, vegetables, lean proteins, and complex carbohydrates\n"
     ]
    }
   ],
   "source": [
    "print(\"=== NUTRITION ASSESSMENT (OpenAI) ===\")\n",
    "print(results[\"assessment_task\"][\"output\"])"
   ]
  },
  {
   "cell_type": "code",
   "execution_count": 78,
   "metadata": {
    "colab": {
     "base_uri": "https://localhost:8080/"
    },
    "id": "Xh5mhn3DR38i",
    "outputId": "2aefe716-3d4e-48e8-96bd-97d5b49c08f6"
   },
   "outputs": [
    {
     "name": "stdout",
     "output_type": "stream",
     "text": [
      "\n",
      "\n",
      "=== MEAL PLAN (Anthropic) ===\n",
      "# 3-Day Meal Plan for Weight Loss & Diabetes Prevention\n",
      "\n",
      "*Designed for pre-diabetes, hypertension management, lactose-free, shellfish-free*\n",
      "\n",
      "## **DAY 1**\n",
      "\n",
      "### 🌅 **BREAKFAST** (7-8 AM)\n",
      "**Mediterranean Veggie Scramble**\n",
      "- 2 eggs scrambled with spinach, diced tomatoes, and bell peppers\n",
      "- 1 slice whole grain toast\n",
      "- 1/2 avocado, sliced\n",
      "- Herbal tea or black coffee (unsweetened)\n",
      "\n",
      "*Prep tip: Pre-chop vegetables Sunday for quick weekday cooking*\n",
      "\n",
      "### 🥗 **LUNCH** (12-1 PM)\n",
      "**Asian-Style Chicken & Vegetable Bowl**\n",
      "- 4 oz grilled chicken breast (seasoned with ginger, garlic, low-sodium soy sauce)\n",
      "- 1 cup steamed broccoli and snap peas\n",
      "- 1/2 cup brown rice\n",
      "- 1 tbsp sesame seeds\n",
      "- Side: cucumber slices with rice vinegar\n",
      "\n",
      "### 🍎 **SNACK** (3-4 PM)\n",
      "- 1 medium apple with 2 tbsp almond butter\n",
      "\n",
      "### 🍽️ **DINNER** (6-7 PM)\n",
      "**Mediterranean Stuffed Bell Peppers**\n",
      "- 2 bell peppers stuffed with ground turkey, quinoa, diced tomatoes, onions, and herbs\n",
      "- Side salad with mixed greens, olive oil, and lemon dressing\n",
      "- 1 cup roasted zucchini and yellow squash\n",
      "\n",
      "---\n",
      "\n",
      "## **DAY 2**\n",
      "\n",
      "### 🌅 **BREAKFAST** (7-8 AM)\n",
      "**Asian-Inspired Overnight Oats**\n",
      "- 1/2 cup rolled oats soaked in almond milk\n",
      "- 1 tbsp chia seeds, 1/2 sliced banana\n",
      "- 1 tsp almond butter, dash of cinnamon\n",
      "- Green tea\n",
      "\n",
      "*Make the night before for grab-and-go convenience*\n",
      "\n",
      "### 🥗 **LUNCH** (12-1 PM)\n",
      "**Mediterranean Quinoa Salad**\n",
      "- 3/4 cup cooked quinoa\n",
      "- Mixed vegetables: cucumber, cherry tomatoes, red onion, bell peppers\n",
      "- 3 oz grilled chicken or 1/4 cup chickpeas\n",
      "- 2 tbsp olive oil and lemon vinaigrette\n",
      "- Fresh herbs (parsley, mint)\n",
      "\n",
      "### 🥜 **SNACK** (3-4 PM)\n",
      "- 1/4 cup mixed unsalted nuts with 1 cup berries\n",
      "\n",
      "### 🍽️ **DINNER** (6-7 PM)\n",
      "**Asian Lettuce Wraps**\n",
      "- 4 oz ground turkey cooked with ginger, garlic, and low-sodium soy sauce\n",
      "- Water chestnuts, shredded carrots, green onions\n",
      "- Butter lettuce cups for wrapping\n",
      "- Side: steamed edamame (1/2 cup)\n",
      "- Brown rice (1/3 cup)\n",
      "\n",
      "---\n",
      "\n",
      "## **DAY 3**\n",
      "\n",
      "### 🌅 **BREAKFAST** (7-8 AM)\n",
      "**Veggie-Packed Omelet**\n",
      "- 2-egg omelet with mushrooms, spinach, and diced tomatoes\n",
      "- 1/2 cup roasted sweet potato cubes\n",
      "- 1 slice whole grain toast\n",
      "- Herbal tea\n",
      "\n",
      "### 🥗 **LUNCH** (12-1 PM)\n",
      "**Asian Chicken Salad**\n",
      "- Mixed greens with 4 oz grilled chicken\n",
      "- Shredded cabbage, carrots, snap peas, bell peppers\n",
      "- 1 tbsp sesame oil and rice vinegar dressing\n",
      "- 2 tbsp sunflower seeds\n",
      "- 1 small whole grain pita\n",
      "\n",
      "### 🍓 **SNACK** (3-4 PM)\n",
      "- 1 cup Greek-style dairy-free yogurt (coconut or almond-based) with berries\n",
      "\n",
      "### 🍽️ **DINNER** (6-7 PM)\n",
      "**Mediterranean Turkey Meatballs**\n",
      "- Turkey meatballs with herbs, served over zucchini noodles\n",
      "- 1/2 cup marinara sauce (low-sodium)\n",
      "- Side: roasted Mediterranean vegetables (eggplant, zucchini, bell peppers)\n",
      "- Small mixed green salad\n",
      "\n",
      "---\n",
      "\n",
      "## **📋 MEAL PREP TIPS**\n",
      "\n",
      "- **Sunday prep**: Wash/chop vegetables, cook quinoa and brown rice in batches\n",
      "- **Protein prep**: Grill chicken breasts and portion for the week\n",
      "- **Breakfast**: Prepare overnight oats in mason jars\n",
      "- **Emergency meals**: Keep frozen vegetables and pre-cooked proteins on hand\n",
      "\n",
      "## **💧 HYDRATION & TIMING**\n",
      "- Drink water throughout the day (aim for 8 glasses)\n",
      "- Eat breakfast within 1 hour of waking\n",
      "- Have dinner by 7 PM when possible\n",
      "- Space meals 3-4 hours apart\n",
      "\n",
      "## **🛒 BUDGET-FRIENDLY SHOPPING LIST**\n",
      "- Buy proteins in bulk and freeze portions\n",
      "- Use seasonal vegetables\n",
      "- Dried beans, lentils, and whole grains are economical staples\n",
      "- Frozen vegetables are nutritious and affordable\n",
      "- Generic brands for pantry staples\n",
      "\n",
      "*This plan provides approximately 1,200-1,400 calories per day with balanced macronutrients to support steady weight loss while maintaining stable blood sugar levels.*\n"
     ]
    }
   ],
   "source": [
    "print(\"\\n\\n=== MEAL PLAN (Anthropic) ===\")\n",
    "print(results[\"planning_task\"][\"output\"])"
   ]
  },
  {
   "cell_type": "code",
   "execution_count": null,
   "metadata": {
    "id": "QVH-Za2NR9UZ"
   },
   "outputs": [],
   "source": []
  }
 ],
 "metadata": {
  "colab": {
   "provenance": []
  },
  "kernelspec": {
   "display_name": "Python 3 (ipykernel)",
   "language": "python",
   "name": "python3"
  },
  "language_info": {
   "codemirror_mode": {
    "name": "ipython",
    "version": 3
   },
   "file_extension": ".py",
   "mimetype": "text/x-python",
   "name": "python",
   "nbconvert_exporter": "python",
   "pygments_lexer": "ipython3",
   "version": "3.12.4"
  }
 },
 "nbformat": 4,
 "nbformat_minor": 4
}
